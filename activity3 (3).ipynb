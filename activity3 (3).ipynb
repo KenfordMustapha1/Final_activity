{
 "cells": [
  {
   "cell_type": "markdown",
   "id": "72f0179e-fab8-4b34-af43-be34d57f2963",
   "metadata": {},
   "source": [
    "<h1>Project: United Kingdom Road Accident Data Analysis</h1>\n",
    "<h2>Inclusive Years: 2019 - 2022</h2>\n",
    "<H3>Analyst: Leonard Andrew Mesiera</H3>"
   ]
  },
  {
   "cell_type": "markdown",
   "id": "3548ac38-aeff-4f48-8b56-8aca6443952c",
   "metadata": {},
   "source": [
    "<h1>Data Preperation</h1>"
   ]
  },
  {
   "cell_type": "code",
   "execution_count": 1,
   "id": "34e76668-9f2a-44a8-9a56-990d151c0d26",
   "metadata": {},
   "outputs": [],
   "source": [
    "import numpy as np\n",
    "import pandas as pd\n",
    "import matplotlib.pyplot as plt\n",
    "import seaborn as sns\n",
    "from scipy.stats import f_oneway\n",
    "import warnings\n",
    "warnings.filterwarnings('ignore')\n"
   ]
  },
  {
   "cell_type": "code",
   "execution_count": 2,
   "id": "6c1bc04a-d6e2-4b0a-a74c-9d882c9d9773",
   "metadata": {},
   "outputs": [],
   "source": [
    "accident = pd.read_csv('dataset\\\\accident_data.csv')"
   ]
  },
  {
   "cell_type": "code",
   "execution_count": 3,
   "id": "9040afdc-b343-4cfd-bbab-922f5d3b9511",
   "metadata": {},
   "outputs": [
    {
     "data": {
      "text/html": [
       "<div>\n",
       "<style scoped>\n",
       "    .dataframe tbody tr th:only-of-type {\n",
       "        vertical-align: middle;\n",
       "    }\n",
       "\n",
       "    .dataframe tbody tr th {\n",
       "        vertical-align: top;\n",
       "    }\n",
       "\n",
       "    .dataframe thead th {\n",
       "        text-align: right;\n",
       "    }\n",
       "</style>\n",
       "<table border=\"1\" class=\"dataframe\">\n",
       "  <thead>\n",
       "    <tr style=\"text-align: right;\">\n",
       "      <th></th>\n",
       "      <th>Index</th>\n",
       "      <th>Accident_Severity</th>\n",
       "      <th>Accident Date</th>\n",
       "      <th>Latitude</th>\n",
       "      <th>Light_Conditions</th>\n",
       "      <th>District Area</th>\n",
       "      <th>Longitude</th>\n",
       "      <th>Number_of_Casualties</th>\n",
       "      <th>Number_of_Vehicles</th>\n",
       "      <th>Road_Surface_Conditions</th>\n",
       "      <th>Road_Type</th>\n",
       "      <th>Urban_or_Rural_Area</th>\n",
       "      <th>Weather_Conditions</th>\n",
       "      <th>Vehicle_Type</th>\n",
       "    </tr>\n",
       "  </thead>\n",
       "  <tbody>\n",
       "    <tr>\n",
       "      <th>0</th>\n",
       "      <td>200701BS64157</td>\n",
       "      <td>Serious</td>\n",
       "      <td>05/06/2019</td>\n",
       "      <td>51.506187</td>\n",
       "      <td>Darkness - lights lit</td>\n",
       "      <td>Kensington and Chelsea</td>\n",
       "      <td>-0.209082</td>\n",
       "      <td>1</td>\n",
       "      <td>2</td>\n",
       "      <td>Dry</td>\n",
       "      <td>Single carriageway</td>\n",
       "      <td>Urban</td>\n",
       "      <td>Fine no high winds</td>\n",
       "      <td>Car</td>\n",
       "    </tr>\n",
       "    <tr>\n",
       "      <th>1</th>\n",
       "      <td>200701BS65737</td>\n",
       "      <td>Serious</td>\n",
       "      <td>02/07/2019</td>\n",
       "      <td>51.495029</td>\n",
       "      <td>Daylight</td>\n",
       "      <td>Kensington and Chelsea</td>\n",
       "      <td>-0.173647</td>\n",
       "      <td>1</td>\n",
       "      <td>2</td>\n",
       "      <td>Wet or damp</td>\n",
       "      <td>Single carriageway</td>\n",
       "      <td>Urban</td>\n",
       "      <td>Raining no high winds</td>\n",
       "      <td>Car</td>\n",
       "    </tr>\n",
       "    <tr>\n",
       "      <th>2</th>\n",
       "      <td>200701BS66127</td>\n",
       "      <td>Serious</td>\n",
       "      <td>26/08/2019</td>\n",
       "      <td>51.517715</td>\n",
       "      <td>Darkness - lighting unknown</td>\n",
       "      <td>Kensington and Chelsea</td>\n",
       "      <td>-0.210215</td>\n",
       "      <td>1</td>\n",
       "      <td>3</td>\n",
       "      <td>Dry</td>\n",
       "      <td>NaN</td>\n",
       "      <td>Urban</td>\n",
       "      <td>NaN</td>\n",
       "      <td>Taxi/Private hire car</td>\n",
       "    </tr>\n",
       "    <tr>\n",
       "      <th>3</th>\n",
       "      <td>200701BS66128</td>\n",
       "      <td>Serious</td>\n",
       "      <td>16/08/2019</td>\n",
       "      <td>51.495478</td>\n",
       "      <td>Daylight</td>\n",
       "      <td>Kensington and Chelsea</td>\n",
       "      <td>-0.202731</td>\n",
       "      <td>1</td>\n",
       "      <td>4</td>\n",
       "      <td>Dry</td>\n",
       "      <td>Single carriageway</td>\n",
       "      <td>Urban</td>\n",
       "      <td>Fine no high winds</td>\n",
       "      <td>Bus or coach (17 or more pass seats)</td>\n",
       "    </tr>\n",
       "    <tr>\n",
       "      <th>4</th>\n",
       "      <td>200701BS66837</td>\n",
       "      <td>Slight</td>\n",
       "      <td>03/09/2019</td>\n",
       "      <td>51.488576</td>\n",
       "      <td>Darkness - lights lit</td>\n",
       "      <td>Kensington and Chelsea</td>\n",
       "      <td>-0.192487</td>\n",
       "      <td>1</td>\n",
       "      <td>2</td>\n",
       "      <td>Dry</td>\n",
       "      <td>NaN</td>\n",
       "      <td>Urban</td>\n",
       "      <td>NaN</td>\n",
       "      <td>Other vehicle</td>\n",
       "    </tr>\n",
       "    <tr>\n",
       "      <th>...</th>\n",
       "      <td>...</td>\n",
       "      <td>...</td>\n",
       "      <td>...</td>\n",
       "      <td>...</td>\n",
       "      <td>...</td>\n",
       "      <td>...</td>\n",
       "      <td>...</td>\n",
       "      <td>...</td>\n",
       "      <td>...</td>\n",
       "      <td>...</td>\n",
       "      <td>...</td>\n",
       "      <td>...</td>\n",
       "      <td>...</td>\n",
       "      <td>...</td>\n",
       "    </tr>\n",
       "    <tr>\n",
       "      <th>660674</th>\n",
       "      <td>201091NM01760</td>\n",
       "      <td>Slight</td>\n",
       "      <td>18/02/2022</td>\n",
       "      <td>57.374005</td>\n",
       "      <td>Daylight</td>\n",
       "      <td>Highland</td>\n",
       "      <td>-3.467828</td>\n",
       "      <td>2</td>\n",
       "      <td>1</td>\n",
       "      <td>Dry</td>\n",
       "      <td>Single carriageway</td>\n",
       "      <td>Rural</td>\n",
       "      <td>Fine no high winds</td>\n",
       "      <td>Car</td>\n",
       "    </tr>\n",
       "    <tr>\n",
       "      <th>660675</th>\n",
       "      <td>201091NM01881</td>\n",
       "      <td>Slight</td>\n",
       "      <td>21/02/2022</td>\n",
       "      <td>57.232273</td>\n",
       "      <td>Darkness - no lighting</td>\n",
       "      <td>Highland</td>\n",
       "      <td>-3.809281</td>\n",
       "      <td>1</td>\n",
       "      <td>1</td>\n",
       "      <td>Frost or ice</td>\n",
       "      <td>Single carriageway</td>\n",
       "      <td>Rural</td>\n",
       "      <td>Fine no high winds</td>\n",
       "      <td>Car</td>\n",
       "    </tr>\n",
       "    <tr>\n",
       "      <th>660676</th>\n",
       "      <td>201091NM01935</td>\n",
       "      <td>Slight</td>\n",
       "      <td>23/02/2022</td>\n",
       "      <td>57.585044</td>\n",
       "      <td>Daylight</td>\n",
       "      <td>Highland</td>\n",
       "      <td>-3.862727</td>\n",
       "      <td>1</td>\n",
       "      <td>3</td>\n",
       "      <td>Frost or ice</td>\n",
       "      <td>Single carriageway</td>\n",
       "      <td>Rural</td>\n",
       "      <td>Fine no high winds</td>\n",
       "      <td>Car</td>\n",
       "    </tr>\n",
       "    <tr>\n",
       "      <th>660677</th>\n",
       "      <td>201091NM01964</td>\n",
       "      <td>Serious</td>\n",
       "      <td>23/02/2022</td>\n",
       "      <td>57.214898</td>\n",
       "      <td>Darkness - no lighting</td>\n",
       "      <td>Highland</td>\n",
       "      <td>-3.823997</td>\n",
       "      <td>1</td>\n",
       "      <td>2</td>\n",
       "      <td>Wet or damp</td>\n",
       "      <td>Single carriageway</td>\n",
       "      <td>Rural</td>\n",
       "      <td>Fine no high winds</td>\n",
       "      <td>Motorcycle over 500cc</td>\n",
       "    </tr>\n",
       "    <tr>\n",
       "      <th>660678</th>\n",
       "      <td>201091NM02142</td>\n",
       "      <td>Serious</td>\n",
       "      <td>28/02/2022</td>\n",
       "      <td>57.575210</td>\n",
       "      <td>Daylight</td>\n",
       "      <td>Highland</td>\n",
       "      <td>-3.895673</td>\n",
       "      <td>1</td>\n",
       "      <td>1</td>\n",
       "      <td>Wet or damp</td>\n",
       "      <td>Dual carriageway</td>\n",
       "      <td>Rural</td>\n",
       "      <td>Snowing no high winds</td>\n",
       "      <td>Car</td>\n",
       "    </tr>\n",
       "  </tbody>\n",
       "</table>\n",
       "<p>660679 rows × 14 columns</p>\n",
       "</div>"
      ],
      "text/plain": [
       "                Index Accident_Severity Accident Date   Latitude  \\\n",
       "0       200701BS64157           Serious    05/06/2019  51.506187   \n",
       "1       200701BS65737           Serious    02/07/2019  51.495029   \n",
       "2       200701BS66127           Serious    26/08/2019  51.517715   \n",
       "3       200701BS66128           Serious    16/08/2019  51.495478   \n",
       "4       200701BS66837            Slight    03/09/2019  51.488576   \n",
       "...               ...               ...           ...        ...   \n",
       "660674  201091NM01760            Slight    18/02/2022  57.374005   \n",
       "660675  201091NM01881            Slight    21/02/2022  57.232273   \n",
       "660676  201091NM01935            Slight    23/02/2022  57.585044   \n",
       "660677  201091NM01964           Serious    23/02/2022  57.214898   \n",
       "660678  201091NM02142           Serious    28/02/2022  57.575210   \n",
       "\n",
       "                   Light_Conditions           District Area  Longitude  \\\n",
       "0             Darkness - lights lit  Kensington and Chelsea  -0.209082   \n",
       "1                          Daylight  Kensington and Chelsea  -0.173647   \n",
       "2       Darkness - lighting unknown  Kensington and Chelsea  -0.210215   \n",
       "3                          Daylight  Kensington and Chelsea  -0.202731   \n",
       "4             Darkness - lights lit  Kensington and Chelsea  -0.192487   \n",
       "...                             ...                     ...        ...   \n",
       "660674                     Daylight                Highland  -3.467828   \n",
       "660675       Darkness - no lighting                Highland  -3.809281   \n",
       "660676                     Daylight                Highland  -3.862727   \n",
       "660677       Darkness - no lighting                Highland  -3.823997   \n",
       "660678                     Daylight                Highland  -3.895673   \n",
       "\n",
       "        Number_of_Casualties  Number_of_Vehicles Road_Surface_Conditions  \\\n",
       "0                          1                   2                     Dry   \n",
       "1                          1                   2             Wet or damp   \n",
       "2                          1                   3                     Dry   \n",
       "3                          1                   4                     Dry   \n",
       "4                          1                   2                     Dry   \n",
       "...                      ...                 ...                     ...   \n",
       "660674                     2                   1                     Dry   \n",
       "660675                     1                   1            Frost or ice   \n",
       "660676                     1                   3            Frost or ice   \n",
       "660677                     1                   2             Wet or damp   \n",
       "660678                     1                   1             Wet or damp   \n",
       "\n",
       "                 Road_Type Urban_or_Rural_Area     Weather_Conditions  \\\n",
       "0       Single carriageway               Urban     Fine no high winds   \n",
       "1       Single carriageway               Urban  Raining no high winds   \n",
       "2                      NaN               Urban                    NaN   \n",
       "3       Single carriageway               Urban     Fine no high winds   \n",
       "4                      NaN               Urban                    NaN   \n",
       "...                    ...                 ...                    ...   \n",
       "660674  Single carriageway               Rural     Fine no high winds   \n",
       "660675  Single carriageway               Rural     Fine no high winds   \n",
       "660676  Single carriageway               Rural     Fine no high winds   \n",
       "660677  Single carriageway               Rural     Fine no high winds   \n",
       "660678    Dual carriageway               Rural  Snowing no high winds   \n",
       "\n",
       "                                Vehicle_Type  \n",
       "0                                        Car  \n",
       "1                                        Car  \n",
       "2                      Taxi/Private hire car  \n",
       "3       Bus or coach (17 or more pass seats)  \n",
       "4                              Other vehicle  \n",
       "...                                      ...  \n",
       "660674                                   Car  \n",
       "660675                                   Car  \n",
       "660676                                   Car  \n",
       "660677                 Motorcycle over 500cc  \n",
       "660678                                   Car  \n",
       "\n",
       "[660679 rows x 14 columns]"
      ]
     },
     "execution_count": 3,
     "metadata": {},
     "output_type": "execute_result"
    }
   ],
   "source": [
    "accident"
   ]
  },
  {
   "cell_type": "code",
   "execution_count": 4,
   "id": "d47700fc-069b-4c51-bbfa-4a3ad5398c8f",
   "metadata": {},
   "outputs": [
    {
     "data": {
      "text/plain": [
       "Index                          0\n",
       "Accident_Severity              0\n",
       "Accident Date                  0\n",
       "Latitude                      25\n",
       "Light_Conditions               0\n",
       "District Area                  0\n",
       "Longitude                     26\n",
       "Number_of_Casualties           0\n",
       "Number_of_Vehicles             0\n",
       "Road_Surface_Conditions      726\n",
       "Road_Type                   4520\n",
       "Urban_or_Rural_Area           15\n",
       "Weather_Conditions         14128\n",
       "Vehicle_Type                   0\n",
       "dtype: int64"
      ]
     },
     "execution_count": 4,
     "metadata": {},
     "output_type": "execute_result"
    }
   ],
   "source": [
    "accident.isnull().sum()"
   ]
  },
  {
   "cell_type": "code",
   "execution_count": 5,
   "id": "816a7200-7cc4-4470-a846-ea7fe3298870",
   "metadata": {},
   "outputs": [],
   "source": [
    "accident['Latitude'] = accident['Latitude'].fillna(accident['Latitude'].mode()[0])\n",
    "accident['Longitude'] = accident['Longitude'].fillna(accident['Longitude'].mode()[0])\n",
    "accident['Road_Surface_Conditions'] = accident['Road_Surface_Conditions'].fillna('unacounted')\n",
    "accident['Road_Type'] = accident['Road_Type'].fillna('unacounted')\n",
    "accident['Weather_Conditions'] = accident['Weather_Conditions'].fillna('unacounted')\n",
    "accident['Urban_or_Rural_Area'] = accident['Urban_or_Rural_Area'].fillna(accident['Urban_or_Rural_Area'].mode()[0])"
   ]
  },
  {
   "cell_type": "code",
   "execution_count": 6,
   "id": "d8ebab59-9cbd-4b8b-96ad-b841df46ef25",
   "metadata": {},
   "outputs": [
    {
     "data": {
      "text/plain": [
       "Index                      0\n",
       "Accident_Severity          0\n",
       "Accident Date              0\n",
       "Latitude                   0\n",
       "Light_Conditions           0\n",
       "District Area              0\n",
       "Longitude                  0\n",
       "Number_of_Casualties       0\n",
       "Number_of_Vehicles         0\n",
       "Road_Surface_Conditions    0\n",
       "Road_Type                  0\n",
       "Urban_or_Rural_Area        0\n",
       "Weather_Conditions         0\n",
       "Vehicle_Type               0\n",
       "dtype: int64"
      ]
     },
     "execution_count": 6,
     "metadata": {},
     "output_type": "execute_result"
    }
   ],
   "source": [
    "accident.isnull().sum()"
   ]
  },
  {
   "cell_type": "code",
   "execution_count": 7,
   "id": "e1cedf3c-c816-40e4-b3e0-39e75546e6d3",
   "metadata": {},
   "outputs": [],
   "source": [
    "#column\n",
    "#date\n",
    "#just in case errors appears\n",
    "accident['Accident Date'] = pd.to_datetime(accident['Accident Date'], dayfirst = True, errors='coerce')"
   ]
  },
  {
   "cell_type": "code",
   "execution_count": 8,
   "id": "726776a5-daa6-4193-bf50-947b3b273efb",
   "metadata": {},
   "outputs": [
    {
     "data": {
      "text/plain": [
       "Index                      0\n",
       "Accident_Severity          0\n",
       "Accident Date              0\n",
       "Latitude                   0\n",
       "Light_Conditions           0\n",
       "District Area              0\n",
       "Longitude                  0\n",
       "Number_of_Casualties       0\n",
       "Number_of_Vehicles         0\n",
       "Road_Surface_Conditions    0\n",
       "Road_Type                  0\n",
       "Urban_or_Rural_Area        0\n",
       "Weather_Conditions         0\n",
       "Vehicle_Type               0\n",
       "dtype: int64"
      ]
     },
     "execution_count": 8,
     "metadata": {},
     "output_type": "execute_result"
    }
   ],
   "source": [
    "accident.isnull().sum()"
   ]
  },
  {
   "cell_type": "code",
   "execution_count": 9,
   "id": "26d3b014-a6c9-4596-b18c-d42edc205387",
   "metadata": {},
   "outputs": [],
   "source": [
    "accident['Accident_Severity'] = accident['Accident_Severity'].astype('category')\n",
    "accident['Latitude'] = accident['Latitude'].astype('category')\n",
    "accident['Light_Conditions'] = accident['Light_Conditions'].astype('category')\n",
    "accident['District Area'] = accident['District Area'].astype('category')\n",
    "accident['Longitude'] = accident['Longitude'].astype('category')\n",
    "accident['Road_Surface_Conditions'] = accident['Road_Surface_Conditions'].astype('category')\n",
    "accident['Road_Type'] = accident['Road_Type'].astype('category')\n",
    "accident['Urban_or_Rural_Area'] = accident['Urban_or_Rural_Area'].astype('category')\n",
    "accident['Weather_Conditions'] = accident['Weather_Conditions'].astype('category')\n",
    "accident['Vehicle_Type'] = accident['Vehicle_Type'].astype('category')"
   ]
  },
  {
   "cell_type": "code",
   "execution_count": 10,
   "id": "15ade928-ec6f-447a-b549-db9e361c2f7b",
   "metadata": {},
   "outputs": [
    {
     "name": "stdout",
     "output_type": "stream",
     "text": [
      "<class 'pandas.core.frame.DataFrame'>\n",
      "RangeIndex: 660679 entries, 0 to 660678\n",
      "Data columns (total 14 columns):\n",
      " #   Column                   Non-Null Count   Dtype         \n",
      "---  ------                   --------------   -----         \n",
      " 0   Index                    660679 non-null  object        \n",
      " 1   Accident_Severity        660679 non-null  category      \n",
      " 2   Accident Date            660679 non-null  datetime64[ns]\n",
      " 3   Latitude                 660679 non-null  category      \n",
      " 4   Light_Conditions         660679 non-null  category      \n",
      " 5   District Area            660679 non-null  category      \n",
      " 6   Longitude                660679 non-null  category      \n",
      " 7   Number_of_Casualties     660679 non-null  int64         \n",
      " 8   Number_of_Vehicles       660679 non-null  int64         \n",
      " 9   Road_Surface_Conditions  660679 non-null  category      \n",
      " 10  Road_Type                660679 non-null  category      \n",
      " 11  Urban_or_Rural_Area      660679 non-null  category      \n",
      " 12  Weather_Conditions       660679 non-null  category      \n",
      " 13  Vehicle_Type             660679 non-null  category      \n",
      "dtypes: category(10), datetime64[ns](1), int64(2), object(1)\n",
      "memory usage: 71.1+ MB\n"
     ]
    }
   ],
   "source": [
    "accident.info()"
   ]
  },
  {
   "cell_type": "code",
   "execution_count": 11,
   "id": "9927cfd8-13b0-43ff-9c77-dd18ad3a9281",
   "metadata": {},
   "outputs": [],
   "source": [
    "    accident['Year'] = accident['Accident Date'].dt.year\n",
    "    accident['Month'] = accident['Accident Date'].dt.month\n",
    "    accident['Day'] = accident['Accident Date'].dt.day\n",
    "    accident['DayOfWeek'] = accident['Accident Date'].dt.dayofweek"
   ]
  },
  {
   "cell_type": "markdown",
   "id": "8dd35ab1-a9d7-4f46-acab-1affd9d917b3",
   "metadata": {},
   "source": [
    "<h1>UniVariate</h1>"
   ]
  },
  {
   "cell_type": "code",
   "execution_count": 12,
   "id": "006e538c-f1c9-4999-9ecf-897f9067ecd5",
   "metadata": {},
   "outputs": [
    {
     "data": {
      "text/plain": [
       "Accident Date\n",
       "2019-11-30    704\n",
       "2019-01-31    697\n",
       "2019-07-13    692\n",
       "2021-11-13    692\n",
       "2019-08-14    688\n",
       "             ... \n",
       "2022-12-30    171\n",
       "2019-12-25    157\n",
       "2022-12-25    145\n",
       "2022-01-10    123\n",
       "2020-12-25    118\n",
       "Name: count, Length: 1461, dtype: int64"
      ]
     },
     "execution_count": 12,
     "metadata": {},
     "output_type": "execute_result"
    }
   ],
   "source": [
    "accident['Accident Date'].value_counts()"
   ]
  },
  {
   "cell_type": "code",
   "execution_count": 13,
   "id": "4204b732-6574-4eb9-8e09-5d3fbfe8a562",
   "metadata": {},
   "outputs": [],
   "source": [
    "df2019 = accident[accident['Year'] == 2019]"
   ]
  },
  {
   "cell_type": "code",
   "execution_count": 14,
   "id": "6617c75e-4637-4704-a4cf-9a321517c198",
   "metadata": {},
   "outputs": [],
   "source": [
    "df2021 = accident[accident['Year'] == 2021]"
   ]
  },
  {
   "cell_type": "markdown",
   "id": "a6563b1f-fcab-431d-b139-788f14e23a49",
   "metadata": {},
   "source": [
    "<h1>Insight No.1</h1>\n",
    "<h2>Daylight Constitute to 132% of the total accident from year 2019</h2>"
   ]
  },
  {
   "cell_type": "code",
   "execution_count": 15,
   "id": "3269b7f8-e52e-460f-b3c1-faef701c942d",
   "metadata": {},
   "outputs": [
    {
     "data": {
      "text/plain": [
       "Light_Conditions\n",
       "Daylight                       133042\n",
       "Darkness - lights lit           35769\n",
       "Darkness - no lighting          10842\n",
       "Darkness - lighting unknown      1768\n",
       "Darkness - lights unlit           694\n",
       "Name: count, dtype: int64"
      ]
     },
     "execution_count": 15,
     "metadata": {},
     "output_type": "execute_result"
    }
   ],
   "source": [
    "df2019['Light_Conditions'].value_counts()"
   ]
  },
  {
   "cell_type": "markdown",
   "id": "a5e4ecd1-6261-482a-8353-a3c5314e9f1e",
   "metadata": {},
   "source": [
    "<h1>Insight no.2</h1>\n",
    "<h2>Question How Many Incident Happened Under Daylight in 2019</h2>"
   ]
  },
  {
   "cell_type": "code",
   "execution_count": 16,
   "id": "139eac8f-d4cc-4cc5-8dd7-a940da2f3c12",
   "metadata": {},
   "outputs": [
    {
     "data": {
      "text/plain": [
       "Light_Conditions\n",
       "Daylight                       133042\n",
       "Darkness - lights lit           35769\n",
       "Darkness - no lighting          10842\n",
       "Darkness - lighting unknown      1768\n",
       "Darkness - lights unlit           694\n",
       "Name: count, dtype: int64"
      ]
     },
     "execution_count": 16,
     "metadata": {},
     "output_type": "execute_result"
    }
   ],
   "source": [
    "df2019['Light_Conditions'].value_counts()"
   ]
  },
  {
   "cell_type": "markdown",
   "id": "5684e074-e83a-422c-8e09-613067e377e5",
   "metadata": {},
   "source": [
    "<h1>There are 133042 number of accident happen in 2019 </h1>"
   ]
  },
  {
   "cell_type": "markdown",
   "id": "17559140-4b13-4692-9bfe-fb100d940eac",
   "metadata": {},
   "source": [
    "<h1>Insight no.3</h1>\n",
    "<h2>Accident severity in the month of January in 2019</h2>"
   ]
  },
  {
   "cell_type": "code",
   "execution_count": 17,
   "id": "035f35b4-2b5e-45d2-98ea-ce0b32390ed2",
   "metadata": {},
   "outputs": [],
   "source": [
    "month_year = df2019[df2019['Month'] == 1]"
   ]
  },
  {
   "cell_type": "code",
   "execution_count": 18,
   "id": "6b0a8844-c0de-4eff-8ca9-fd48335a7f17",
   "metadata": {},
   "outputs": [
    {
     "data": {
      "text/html": [
       "<div>\n",
       "<style scoped>\n",
       "    .dataframe tbody tr th:only-of-type {\n",
       "        vertical-align: middle;\n",
       "    }\n",
       "\n",
       "    .dataframe tbody tr th {\n",
       "        vertical-align: top;\n",
       "    }\n",
       "\n",
       "    .dataframe thead th {\n",
       "        text-align: right;\n",
       "    }\n",
       "</style>\n",
       "<table border=\"1\" class=\"dataframe\">\n",
       "  <thead>\n",
       "    <tr style=\"text-align: right;\">\n",
       "      <th></th>\n",
       "      <th>Index</th>\n",
       "      <th>Accident_Severity</th>\n",
       "      <th>Accident Date</th>\n",
       "      <th>Latitude</th>\n",
       "      <th>Light_Conditions</th>\n",
       "      <th>District Area</th>\n",
       "      <th>Longitude</th>\n",
       "      <th>Number_of_Casualties</th>\n",
       "      <th>Number_of_Vehicles</th>\n",
       "      <th>Road_Surface_Conditions</th>\n",
       "      <th>Road_Type</th>\n",
       "      <th>Urban_or_Rural_Area</th>\n",
       "      <th>Weather_Conditions</th>\n",
       "      <th>Vehicle_Type</th>\n",
       "      <th>Year</th>\n",
       "      <th>Month</th>\n",
       "      <th>Day</th>\n",
       "      <th>DayOfWeek</th>\n",
       "    </tr>\n",
       "  </thead>\n",
       "  <tbody>\n",
       "    <tr>\n",
       "      <th>22</th>\n",
       "      <td>200701BS70001</td>\n",
       "      <td>Slight</td>\n",
       "      <td>2019-01-18</td>\n",
       "      <td>51.499983</td>\n",
       "      <td>Darkness - lights lit</td>\n",
       "      <td>Kensington and Chelsea</td>\n",
       "      <td>-0.179933</td>\n",
       "      <td>1</td>\n",
       "      <td>1</td>\n",
       "      <td>Dry</td>\n",
       "      <td>Single carriageway</td>\n",
       "      <td>Urban</td>\n",
       "      <td>Fine no high winds</td>\n",
       "      <td>Car</td>\n",
       "      <td>2019</td>\n",
       "      <td>1</td>\n",
       "      <td>18</td>\n",
       "      <td>4</td>\n",
       "    </tr>\n",
       "    <tr>\n",
       "      <th>23</th>\n",
       "      <td>200701BS70002</td>\n",
       "      <td>Serious</td>\n",
       "      <td>2019-01-22</td>\n",
       "      <td>51.485674</td>\n",
       "      <td>Daylight</td>\n",
       "      <td>Kensington and Chelsea</td>\n",
       "      <td>-0.150543</td>\n",
       "      <td>2</td>\n",
       "      <td>2</td>\n",
       "      <td>Dry</td>\n",
       "      <td>Single carriageway</td>\n",
       "      <td>Urban</td>\n",
       "      <td>Fine no high winds</td>\n",
       "      <td>Car</td>\n",
       "      <td>2019</td>\n",
       "      <td>1</td>\n",
       "      <td>22</td>\n",
       "      <td>1</td>\n",
       "    </tr>\n",
       "    <tr>\n",
       "      <th>24</th>\n",
       "      <td>200701BS70003</td>\n",
       "      <td>Serious</td>\n",
       "      <td>2019-01-17</td>\n",
       "      <td>51.498157</td>\n",
       "      <td>Daylight</td>\n",
       "      <td>Kensington and Chelsea</td>\n",
       "      <td>-0.201473</td>\n",
       "      <td>1</td>\n",
       "      <td>1</td>\n",
       "      <td>Wet or damp</td>\n",
       "      <td>Dual carriageway</td>\n",
       "      <td>Urban</td>\n",
       "      <td>Raining no high winds</td>\n",
       "      <td>Car</td>\n",
       "      <td>2019</td>\n",
       "      <td>1</td>\n",
       "      <td>17</td>\n",
       "      <td>3</td>\n",
       "    </tr>\n",
       "    <tr>\n",
       "      <th>25</th>\n",
       "      <td>200701BS70004</td>\n",
       "      <td>Slight</td>\n",
       "      <td>2019-01-03</td>\n",
       "      <td>51.493311</td>\n",
       "      <td>Darkness - lights lit</td>\n",
       "      <td>Kensington and Chelsea</td>\n",
       "      <td>-0.190427</td>\n",
       "      <td>2</td>\n",
       "      <td>1</td>\n",
       "      <td>Wet or damp</td>\n",
       "      <td>Single carriageway</td>\n",
       "      <td>Urban</td>\n",
       "      <td>Other</td>\n",
       "      <td>Car</td>\n",
       "      <td>2019</td>\n",
       "      <td>1</td>\n",
       "      <td>3</td>\n",
       "      <td>3</td>\n",
       "    </tr>\n",
       "    <tr>\n",
       "      <th>26</th>\n",
       "      <td>200701BS70005</td>\n",
       "      <td>Slight</td>\n",
       "      <td>2019-01-02</td>\n",
       "      <td>51.498060</td>\n",
       "      <td>Daylight</td>\n",
       "      <td>Kensington and Chelsea</td>\n",
       "      <td>-0.166178</td>\n",
       "      <td>1</td>\n",
       "      <td>1</td>\n",
       "      <td>Dry</td>\n",
       "      <td>Single carriageway</td>\n",
       "      <td>Urban</td>\n",
       "      <td>Fine no high winds</td>\n",
       "      <td>Taxi/Private hire car</td>\n",
       "      <td>2019</td>\n",
       "      <td>1</td>\n",
       "      <td>2</td>\n",
       "      <td>2</td>\n",
       "    </tr>\n",
       "    <tr>\n",
       "      <th>...</th>\n",
       "      <td>...</td>\n",
       "      <td>...</td>\n",
       "      <td>...</td>\n",
       "      <td>...</td>\n",
       "      <td>...</td>\n",
       "      <td>...</td>\n",
       "      <td>...</td>\n",
       "      <td>...</td>\n",
       "      <td>...</td>\n",
       "      <td>...</td>\n",
       "      <td>...</td>\n",
       "      <td>...</td>\n",
       "      <td>...</td>\n",
       "      <td>...</td>\n",
       "      <td>...</td>\n",
       "      <td>...</td>\n",
       "      <td>...</td>\n",
       "      <td>...</td>\n",
       "    </tr>\n",
       "    <tr>\n",
       "      <th>181974</th>\n",
       "      <td>2.01E+12</td>\n",
       "      <td>Slight</td>\n",
       "      <td>2019-01-23</td>\n",
       "      <td>55.197742</td>\n",
       "      <td>Daylight</td>\n",
       "      <td>Dumfries and Galloway</td>\n",
       "      <td>-3.410764</td>\n",
       "      <td>1</td>\n",
       "      <td>2</td>\n",
       "      <td>Dry</td>\n",
       "      <td>Dual carriageway</td>\n",
       "      <td>Rural</td>\n",
       "      <td>Fine no high winds</td>\n",
       "      <td>Van / Goods 3.5 tonnes mgw or under</td>\n",
       "      <td>2019</td>\n",
       "      <td>1</td>\n",
       "      <td>23</td>\n",
       "      <td>2</td>\n",
       "    </tr>\n",
       "    <tr>\n",
       "      <th>181975</th>\n",
       "      <td>2.01E+12</td>\n",
       "      <td>Serious</td>\n",
       "      <td>2019-01-23</td>\n",
       "      <td>55.332789</td>\n",
       "      <td>Daylight</td>\n",
       "      <td>Dumfries and Galloway</td>\n",
       "      <td>-3.443778</td>\n",
       "      <td>1</td>\n",
       "      <td>1</td>\n",
       "      <td>Wet or damp</td>\n",
       "      <td>Single carriageway</td>\n",
       "      <td>Rural</td>\n",
       "      <td>Snowing no high winds</td>\n",
       "      <td>Car</td>\n",
       "      <td>2019</td>\n",
       "      <td>1</td>\n",
       "      <td>23</td>\n",
       "      <td>2</td>\n",
       "    </tr>\n",
       "    <tr>\n",
       "      <th>181976</th>\n",
       "      <td>2.01E+12</td>\n",
       "      <td>Slight</td>\n",
       "      <td>2019-01-28</td>\n",
       "      <td>54.984731</td>\n",
       "      <td>Darkness - no lighting</td>\n",
       "      <td>Dumfries and Galloway</td>\n",
       "      <td>-3.166207</td>\n",
       "      <td>1</td>\n",
       "      <td>1</td>\n",
       "      <td>Dry</td>\n",
       "      <td>Single carriageway</td>\n",
       "      <td>Rural</td>\n",
       "      <td>Fine no high winds</td>\n",
       "      <td>Car</td>\n",
       "      <td>2019</td>\n",
       "      <td>1</td>\n",
       "      <td>28</td>\n",
       "      <td>0</td>\n",
       "    </tr>\n",
       "    <tr>\n",
       "      <th>181977</th>\n",
       "      <td>2.01E+12</td>\n",
       "      <td>Serious</td>\n",
       "      <td>2019-01-28</td>\n",
       "      <td>54.994760</td>\n",
       "      <td>Darkness - no lighting</td>\n",
       "      <td>Dumfries and Galloway</td>\n",
       "      <td>-3.224804</td>\n",
       "      <td>1</td>\n",
       "      <td>1</td>\n",
       "      <td>Dry</td>\n",
       "      <td>Single carriageway</td>\n",
       "      <td>Rural</td>\n",
       "      <td>Fine no high winds</td>\n",
       "      <td>Motorcycle over 125cc and up to 500cc</td>\n",
       "      <td>2019</td>\n",
       "      <td>1</td>\n",
       "      <td>28</td>\n",
       "      <td>0</td>\n",
       "    </tr>\n",
       "    <tr>\n",
       "      <th>181978</th>\n",
       "      <td>2.01E+12</td>\n",
       "      <td>Serious</td>\n",
       "      <td>2019-01-31</td>\n",
       "      <td>55.196230</td>\n",
       "      <td>Daylight</td>\n",
       "      <td>Dumfries and Galloway</td>\n",
       "      <td>-3.329328</td>\n",
       "      <td>1</td>\n",
       "      <td>1</td>\n",
       "      <td>Wet or damp</td>\n",
       "      <td>Single carriageway</td>\n",
       "      <td>Rural</td>\n",
       "      <td>Fine no high winds</td>\n",
       "      <td>Car</td>\n",
       "      <td>2019</td>\n",
       "      <td>1</td>\n",
       "      <td>31</td>\n",
       "      <td>3</td>\n",
       "    </tr>\n",
       "  </tbody>\n",
       "</table>\n",
       "<p>15355 rows × 18 columns</p>\n",
       "</div>"
      ],
      "text/plain": [
       "                Index Accident_Severity Accident Date   Latitude  \\\n",
       "22      200701BS70001            Slight    2019-01-18  51.499983   \n",
       "23      200701BS70002           Serious    2019-01-22  51.485674   \n",
       "24      200701BS70003           Serious    2019-01-17  51.498157   \n",
       "25      200701BS70004            Slight    2019-01-03  51.493311   \n",
       "26      200701BS70005            Slight    2019-01-02  51.498060   \n",
       "...               ...               ...           ...        ...   \n",
       "181974       2.01E+12            Slight    2019-01-23  55.197742   \n",
       "181975       2.01E+12           Serious    2019-01-23  55.332789   \n",
       "181976       2.01E+12            Slight    2019-01-28  54.984731   \n",
       "181977       2.01E+12           Serious    2019-01-28  54.994760   \n",
       "181978       2.01E+12           Serious    2019-01-31  55.196230   \n",
       "\n",
       "              Light_Conditions           District Area Longitude  \\\n",
       "22       Darkness - lights lit  Kensington and Chelsea -0.179933   \n",
       "23                    Daylight  Kensington and Chelsea -0.150543   \n",
       "24                    Daylight  Kensington and Chelsea -0.201473   \n",
       "25       Darkness - lights lit  Kensington and Chelsea -0.190427   \n",
       "26                    Daylight  Kensington and Chelsea -0.166178   \n",
       "...                        ...                     ...       ...   \n",
       "181974                Daylight   Dumfries and Galloway -3.410764   \n",
       "181975                Daylight   Dumfries and Galloway -3.443778   \n",
       "181976  Darkness - no lighting   Dumfries and Galloway -3.166207   \n",
       "181977  Darkness - no lighting   Dumfries and Galloway -3.224804   \n",
       "181978                Daylight   Dumfries and Galloway -3.329328   \n",
       "\n",
       "        Number_of_Casualties  Number_of_Vehicles Road_Surface_Conditions  \\\n",
       "22                         1                   1                     Dry   \n",
       "23                         2                   2                     Dry   \n",
       "24                         1                   1             Wet or damp   \n",
       "25                         2                   1             Wet or damp   \n",
       "26                         1                   1                     Dry   \n",
       "...                      ...                 ...                     ...   \n",
       "181974                     1                   2                     Dry   \n",
       "181975                     1                   1             Wet or damp   \n",
       "181976                     1                   1                     Dry   \n",
       "181977                     1                   1                     Dry   \n",
       "181978                     1                   1             Wet or damp   \n",
       "\n",
       "                 Road_Type Urban_or_Rural_Area     Weather_Conditions  \\\n",
       "22      Single carriageway               Urban     Fine no high winds   \n",
       "23      Single carriageway               Urban     Fine no high winds   \n",
       "24        Dual carriageway               Urban  Raining no high winds   \n",
       "25      Single carriageway               Urban                  Other   \n",
       "26      Single carriageway               Urban     Fine no high winds   \n",
       "...                    ...                 ...                    ...   \n",
       "181974    Dual carriageway               Rural     Fine no high winds   \n",
       "181975  Single carriageway               Rural  Snowing no high winds   \n",
       "181976  Single carriageway               Rural     Fine no high winds   \n",
       "181977  Single carriageway               Rural     Fine no high winds   \n",
       "181978  Single carriageway               Rural     Fine no high winds   \n",
       "\n",
       "                                 Vehicle_Type  Year  Month  Day  DayOfWeek  \n",
       "22                                        Car  2019      1   18          4  \n",
       "23                                        Car  2019      1   22          1  \n",
       "24                                        Car  2019      1   17          3  \n",
       "25                                        Car  2019      1    3          3  \n",
       "26                      Taxi/Private hire car  2019      1    2          2  \n",
       "...                                       ...   ...    ...  ...        ...  \n",
       "181974    Van / Goods 3.5 tonnes mgw or under  2019      1   23          2  \n",
       "181975                                    Car  2019      1   23          2  \n",
       "181976                                    Car  2019      1   28          0  \n",
       "181977  Motorcycle over 125cc and up to 500cc  2019      1   28          0  \n",
       "181978                                    Car  2019      1   31          3  \n",
       "\n",
       "[15355 rows x 18 columns]"
      ]
     },
     "execution_count": 18,
     "metadata": {},
     "output_type": "execute_result"
    }
   ],
   "source": [
    "month_year"
   ]
  },
  {
   "cell_type": "code",
   "execution_count": 19,
   "id": "19cc4055-24ca-400f-8af6-ba6d2a0943dc",
   "metadata": {},
   "outputs": [],
   "source": [
    "month_year = df2019['Accident_Severity'].value_counts().sort_index()"
   ]
  },
  {
   "cell_type": "code",
   "execution_count": 20,
   "id": "aeb52a92-e3ab-4059-9381-cc53e81fd724",
   "metadata": {},
   "outputs": [
    {
     "data": {
      "text/plain": [
       "Accident_Severity\n",
       "Fatal        2714\n",
       "Serious     24322\n",
       "Slight     155079\n",
       "Name: count, dtype: int64"
      ]
     },
     "execution_count": 20,
     "metadata": {},
     "output_type": "execute_result"
    }
   ],
   "source": [
    "month_year"
   ]
  },
  {
   "cell_type": "markdown",
   "id": "188daed8-e387-4127-80c3-08a210ed3abd",
   "metadata": {},
   "source": [
    "<h1>There are more Slight Accident_Severity in the month of january in 2019</h1>"
   ]
  },
  {
   "cell_type": "markdown",
   "id": "06104726-1e62-4f40-a902-0a55c4cca971",
   "metadata": {},
   "source": [
    "<h1>Insight no.4</h1>\n",
    "<h2>how many Serious Accident in one way street</h2>"
   ]
  },
  {
   "cell_type": "code",
   "execution_count": 21,
   "id": "9abd6b5e-4cca-432b-a018-cea48015f9ad",
   "metadata": {},
   "outputs": [
    {
     "data": {
      "text/plain": [
       "1655"
      ]
     },
     "execution_count": 21,
     "metadata": {},
     "output_type": "execute_result"
    }
   ],
   "source": [
    "accident[(accident['Accident_Severity'] == 'Serious') & (accident['Road_Type'] == 'One way street')].shape[0]"
   ]
  },
  {
   "cell_type": "markdown",
   "id": "1ed9aec8-8f3e-4382-98f1-cf9b3be182fe",
   "metadata": {},
   "source": [
    "<h1>There are 1655 Serious Accident in One Way Street</h1>"
   ]
  },
  {
   "cell_type": "markdown",
   "id": "c118fe1b-2fbe-4253-b1ab-487bd129870f",
   "metadata": {},
   "source": [
    "<h1>Insight no.5</h1>\n",
    "<h2>Which road types more dangerous at night?</h2>"
   ]
  },
  {
   "cell_type": "code",
   "execution_count": 22,
   "id": "298db751-4890-4d5a-a866-2622ed11d2c5",
   "metadata": {},
   "outputs": [],
   "source": [
    "light_condition_road = accident.groupby(['Road_Type', 'Light_Conditions']).size().unstack()"
   ]
  },
  {
   "cell_type": "code",
   "execution_count": 23,
   "id": "274f29fc-312b-4d7b-bbcf-9d4b18f84a8d",
   "metadata": {},
   "outputs": [
    {
     "data": {
      "text/html": [
       "<div>\n",
       "<style scoped>\n",
       "    .dataframe tbody tr th:only-of-type {\n",
       "        vertical-align: middle;\n",
       "    }\n",
       "\n",
       "    .dataframe tbody tr th {\n",
       "        vertical-align: top;\n",
       "    }\n",
       "\n",
       "    .dataframe thead th {\n",
       "        text-align: right;\n",
       "    }\n",
       "</style>\n",
       "<table border=\"1\" class=\"dataframe\">\n",
       "  <thead>\n",
       "    <tr style=\"text-align: right;\">\n",
       "      <th>Light_Conditions</th>\n",
       "      <th>Darkness - lighting unknown</th>\n",
       "      <th>Darkness - lights lit</th>\n",
       "      <th>Darkness - lights unlit</th>\n",
       "      <th>Darkness - no lighting</th>\n",
       "      <th>Daylight</th>\n",
       "    </tr>\n",
       "    <tr>\n",
       "      <th>Road_Type</th>\n",
       "      <th></th>\n",
       "      <th></th>\n",
       "      <th></th>\n",
       "      <th></th>\n",
       "      <th></th>\n",
       "    </tr>\n",
       "  </thead>\n",
       "  <tbody>\n",
       "    <tr>\n",
       "      <th>Dual carriageway</th>\n",
       "      <td>905</td>\n",
       "      <td>20242</td>\n",
       "      <td>465</td>\n",
       "      <td>7460</td>\n",
       "      <td>70352</td>\n",
       "    </tr>\n",
       "    <tr>\n",
       "      <th>One way street</th>\n",
       "      <td>124</td>\n",
       "      <td>3310</td>\n",
       "      <td>58</td>\n",
       "      <td>103</td>\n",
       "      <td>9964</td>\n",
       "    </tr>\n",
       "    <tr>\n",
       "      <th>Roundabout</th>\n",
       "      <td>470</td>\n",
       "      <td>10528</td>\n",
       "      <td>189</td>\n",
       "      <td>224</td>\n",
       "      <td>32581</td>\n",
       "    </tr>\n",
       "    <tr>\n",
       "      <th>Single carriageway</th>\n",
       "      <td>4664</td>\n",
       "      <td>93337</td>\n",
       "      <td>1770</td>\n",
       "      <td>29107</td>\n",
       "      <td>363265</td>\n",
       "    </tr>\n",
       "    <tr>\n",
       "      <th>Slip road</th>\n",
       "      <td>86</td>\n",
       "      <td>1315</td>\n",
       "      <td>34</td>\n",
       "      <td>357</td>\n",
       "      <td>5249</td>\n",
       "    </tr>\n",
       "    <tr>\n",
       "      <th>unacounted</th>\n",
       "      <td>235</td>\n",
       "      <td>603</td>\n",
       "      <td>27</td>\n",
       "      <td>186</td>\n",
       "      <td>3469</td>\n",
       "    </tr>\n",
       "  </tbody>\n",
       "</table>\n",
       "</div>"
      ],
      "text/plain": [
       "Light_Conditions    Darkness - lighting unknown  Darkness - lights lit  \\\n",
       "Road_Type                                                                \n",
       "Dual carriageway                            905                  20242   \n",
       "One way street                              124                   3310   \n",
       "Roundabout                                  470                  10528   \n",
       "Single carriageway                         4664                  93337   \n",
       "Slip road                                    86                   1315   \n",
       "unacounted                                  235                    603   \n",
       "\n",
       "Light_Conditions    Darkness - lights unlit  Darkness - no lighting  Daylight  \n",
       "Road_Type                                                                      \n",
       "Dual carriageway                        465                    7460     70352  \n",
       "One way street                           58                     103      9964  \n",
       "Roundabout                              189                     224     32581  \n",
       "Single carriageway                     1770                   29107    363265  \n",
       "Slip road                                34                     357      5249  \n",
       "unacounted                               27                     186      3469  "
      ]
     },
     "execution_count": 23,
     "metadata": {},
     "output_type": "execute_result"
    }
   ],
   "source": [
    "light_condition_road"
   ]
  },
  {
   "cell_type": "markdown",
   "id": "b9ee5375-231c-4a26-b427-a89ebfdc5cfe",
   "metadata": {},
   "source": [
    "<h1>Single Carriageway is more dangerous at night</h1>"
   ]
  },
  {
   "cell_type": "markdown",
   "id": "84016e39-22bf-461c-bfaa-be8daebc3e0f",
   "metadata": {},
   "source": [
    "<h1>Insgiht no.6</h1>\n",
    "<h2>is There a correlation between Latitude and Longhitude</h2>"
   ]
  },
  {
   "cell_type": "code",
   "execution_count": 24,
   "id": "94f8c6b6-c441-491d-a1f3-510a2d609169",
   "metadata": {},
   "outputs": [],
   "source": [
    "insight = accident['Latitude'].corr(accident['Longitude'])"
   ]
  },
  {
   "cell_type": "code",
   "execution_count": 25,
   "id": "b2990e3b-56a5-4c86-b42e-c79cb2a2e415",
   "metadata": {},
   "outputs": [
    {
     "data": {
      "text/plain": [
       "np.float64(-0.3981137948101014)"
      ]
     },
     "execution_count": 25,
     "metadata": {},
     "output_type": "execute_result"
    }
   ],
   "source": [
    "insight"
   ]
  },
  {
   "cell_type": "markdown",
   "id": "cd0a9548-7888-40ca-ad3e-c4f0c47f522b",
   "metadata": {},
   "source": [
    "<h1>there is a correlation between Latitude and Longhitude</h1>"
   ]
  },
  {
   "cell_type": "markdown",
   "id": "83796702-ec0c-497a-8dd3-4d50463e78ff",
   "metadata": {},
   "source": [
    "<h1>Insight no.7</h1>\n",
    "<h2>is There a correlation between Number_of_Casualties and Number_of_Vehicles</h2>"
   ]
  },
  {
   "cell_type": "code",
   "execution_count": 26,
   "id": "0ea3fff1-cbc9-49b9-b9cf-93ca040c8a7a",
   "metadata": {},
   "outputs": [],
   "source": [
    "ncasualties_n = accident['Number_of_Casualties'].corr(accident['Number_of_Vehicles'])"
   ]
  },
  {
   "cell_type": "code",
   "execution_count": 27,
   "id": "e2676d78-431f-4631-b47e-5a33d0777290",
   "metadata": {},
   "outputs": [
    {
     "data": {
      "text/plain": [
       "np.float64(0.2288888612692756)"
      ]
     },
     "execution_count": 27,
     "metadata": {},
     "output_type": "execute_result"
    }
   ],
   "source": [
    "ncasualties_n"
   ]
  },
  {
   "cell_type": "markdown",
   "id": "d259773b-c5ca-42a5-b707-df90af778bef",
   "metadata": {},
   "source": [
    "<h1>There is no Correlation Between Number_of_Casualties and  Number_of_Vehicles</h1>"
   ]
  },
  {
   "cell_type": "markdown",
   "id": "5cb32659-fa4c-42ee-825e-eef70ed163ef",
   "metadata": {},
   "source": [
    "<h1>Insight no.8</h1>\n",
    "<h2>What Year has the Highest Accident Severity</h2>"
   ]
  },
  {
   "cell_type": "code",
   "execution_count": 28,
   "id": "ee55efe3-6423-4fb9-af66-43fd18a7370b",
   "metadata": {},
   "outputs": [],
   "source": [
    "severity_date = accident.groupby(['Year', 'Accident_Severity']).size().unstack()"
   ]
  },
  {
   "cell_type": "code",
   "execution_count": 29,
   "id": "22ed6736-2da8-4296-b2f1-c01bfbbfeec7",
   "metadata": {},
   "outputs": [
    {
     "data": {
      "text/html": [
       "<div>\n",
       "<style scoped>\n",
       "    .dataframe tbody tr th:only-of-type {\n",
       "        vertical-align: middle;\n",
       "    }\n",
       "\n",
       "    .dataframe tbody tr th {\n",
       "        vertical-align: top;\n",
       "    }\n",
       "\n",
       "    .dataframe thead th {\n",
       "        text-align: right;\n",
       "    }\n",
       "</style>\n",
       "<table border=\"1\" class=\"dataframe\">\n",
       "  <thead>\n",
       "    <tr style=\"text-align: right;\">\n",
       "      <th>Accident_Severity</th>\n",
       "      <th>Fatal</th>\n",
       "      <th>Serious</th>\n",
       "      <th>Slight</th>\n",
       "    </tr>\n",
       "    <tr>\n",
       "      <th>Year</th>\n",
       "      <th></th>\n",
       "      <th></th>\n",
       "      <th></th>\n",
       "    </tr>\n",
       "  </thead>\n",
       "  <tbody>\n",
       "    <tr>\n",
       "      <th>2019</th>\n",
       "      <td>2714</td>\n",
       "      <td>24322</td>\n",
       "      <td>155079</td>\n",
       "    </tr>\n",
       "    <tr>\n",
       "      <th>2020</th>\n",
       "      <td>2341</td>\n",
       "      <td>23121</td>\n",
       "      <td>145129</td>\n",
       "    </tr>\n",
       "    <tr>\n",
       "      <th>2021</th>\n",
       "      <td>2057</td>\n",
       "      <td>21997</td>\n",
       "      <td>139500</td>\n",
       "    </tr>\n",
       "    <tr>\n",
       "      <th>2022</th>\n",
       "      <td>1549</td>\n",
       "      <td>18777</td>\n",
       "      <td>124093</td>\n",
       "    </tr>\n",
       "  </tbody>\n",
       "</table>\n",
       "</div>"
      ],
      "text/plain": [
       "Accident_Severity  Fatal  Serious  Slight\n",
       "Year                                     \n",
       "2019                2714    24322  155079\n",
       "2020                2341    23121  145129\n",
       "2021                2057    21997  139500\n",
       "2022                1549    18777  124093"
      ]
     },
     "execution_count": 29,
     "metadata": {},
     "output_type": "execute_result"
    }
   ],
   "source": [
    "severity_date"
   ]
  },
  {
   "cell_type": "markdown",
   "id": "66e2d7c6-c268-4004-954a-7e65d0ab5ab9",
   "metadata": {},
   "source": [
    "<h1>Year 2019 Has the Highest Severity recorded</h1>"
   ]
  },
  {
   "cell_type": "markdown",
   "id": "b3acaa0f-f283-4944-997a-5a50bde09628",
   "metadata": {},
   "source": [
    "<h1>Insight no.9</h1>\n",
    "<h2>Which vehicle type has the highest Accident Record</h2>"
   ]
  },
  {
   "cell_type": "code",
   "execution_count": 30,
   "id": "eb952642-a7ed-4cd6-901c-7bda3994b99a",
   "metadata": {},
   "outputs": [],
   "source": [
    "vehicle_severity = accident.groupby(['Vehicle_Type', 'Accident_Severity']).size().unstack()"
   ]
  },
  {
   "cell_type": "code",
   "execution_count": 31,
   "id": "3cc6ec4f-8d1d-427e-82e0-c7241cc44b5e",
   "metadata": {},
   "outputs": [
    {
     "data": {
      "text/html": [
       "<div>\n",
       "<style scoped>\n",
       "    .dataframe tbody tr th:only-of-type {\n",
       "        vertical-align: middle;\n",
       "    }\n",
       "\n",
       "    .dataframe tbody tr th {\n",
       "        vertical-align: top;\n",
       "    }\n",
       "\n",
       "    .dataframe thead th {\n",
       "        text-align: right;\n",
       "    }\n",
       "</style>\n",
       "<table border=\"1\" class=\"dataframe\">\n",
       "  <thead>\n",
       "    <tr style=\"text-align: right;\">\n",
       "      <th>Accident_Severity</th>\n",
       "      <th>Fatal</th>\n",
       "      <th>Serious</th>\n",
       "      <th>Slight</th>\n",
       "    </tr>\n",
       "    <tr>\n",
       "      <th>Vehicle_Type</th>\n",
       "      <th></th>\n",
       "      <th></th>\n",
       "      <th></th>\n",
       "    </tr>\n",
       "  </thead>\n",
       "  <tbody>\n",
       "    <tr>\n",
       "      <th>Agricultural vehicle</th>\n",
       "      <td>21</td>\n",
       "      <td>282</td>\n",
       "      <td>1644</td>\n",
       "    </tr>\n",
       "    <tr>\n",
       "      <th>Bus or coach (17 or more pass seats)</th>\n",
       "      <td>325</td>\n",
       "      <td>3373</td>\n",
       "      <td>22180</td>\n",
       "    </tr>\n",
       "    <tr>\n",
       "      <th>Car</th>\n",
       "      <td>6577</td>\n",
       "      <td>66461</td>\n",
       "      <td>424954</td>\n",
       "    </tr>\n",
       "    <tr>\n",
       "      <th>Data missing or out of range</th>\n",
       "      <td>0</td>\n",
       "      <td>0</td>\n",
       "      <td>6</td>\n",
       "    </tr>\n",
       "    <tr>\n",
       "      <th>Goods 7.5 tonnes mgw and over</th>\n",
       "      <td>216</td>\n",
       "      <td>2321</td>\n",
       "      <td>14770</td>\n",
       "    </tr>\n",
       "    <tr>\n",
       "      <th>Goods over 3.5t. and under 7.5t</th>\n",
       "      <td>67</td>\n",
       "      <td>857</td>\n",
       "      <td>5172</td>\n",
       "    </tr>\n",
       "    <tr>\n",
       "      <th>Minibus (8 - 16 passenger seats)</th>\n",
       "      <td>29</td>\n",
       "      <td>276</td>\n",
       "      <td>1671</td>\n",
       "    </tr>\n",
       "    <tr>\n",
       "      <th>Motorcycle 125cc and under</th>\n",
       "      <td>189</td>\n",
       "      <td>2031</td>\n",
       "      <td>13049</td>\n",
       "    </tr>\n",
       "    <tr>\n",
       "      <th>Motorcycle 50cc and under</th>\n",
       "      <td>95</td>\n",
       "      <td>1014</td>\n",
       "      <td>6494</td>\n",
       "    </tr>\n",
       "    <tr>\n",
       "      <th>Motorcycle over 125cc and up to 500cc</th>\n",
       "      <td>105</td>\n",
       "      <td>1014</td>\n",
       "      <td>6537</td>\n",
       "    </tr>\n",
       "    <tr>\n",
       "      <th>Motorcycle over 500cc</th>\n",
       "      <td>339</td>\n",
       "      <td>3457</td>\n",
       "      <td>21861</td>\n",
       "    </tr>\n",
       "    <tr>\n",
       "      <th>Other vehicle</th>\n",
       "      <td>70</td>\n",
       "      <td>767</td>\n",
       "      <td>4800</td>\n",
       "    </tr>\n",
       "    <tr>\n",
       "      <th>Pedal cycle</th>\n",
       "      <td>6</td>\n",
       "      <td>39</td>\n",
       "      <td>152</td>\n",
       "    </tr>\n",
       "    <tr>\n",
       "      <th>Ridden horse</th>\n",
       "      <td>0</td>\n",
       "      <td>0</td>\n",
       "      <td>4</td>\n",
       "    </tr>\n",
       "    <tr>\n",
       "      <th>Taxi/Private hire car</th>\n",
       "      <td>155</td>\n",
       "      <td>1771</td>\n",
       "      <td>11368</td>\n",
       "    </tr>\n",
       "    <tr>\n",
       "      <th>Van / Goods 3.5 tonnes mgw or under</th>\n",
       "      <td>467</td>\n",
       "      <td>4554</td>\n",
       "      <td>29139</td>\n",
       "    </tr>\n",
       "  </tbody>\n",
       "</table>\n",
       "</div>"
      ],
      "text/plain": [
       "Accident_Severity                      Fatal  Serious  Slight\n",
       "Vehicle_Type                                                 \n",
       "Agricultural vehicle                      21      282    1644\n",
       "Bus or coach (17 or more pass seats)     325     3373   22180\n",
       "Car                                     6577    66461  424954\n",
       "Data missing or out of range               0        0       6\n",
       "Goods 7.5 tonnes mgw and over            216     2321   14770\n",
       "Goods over 3.5t. and under 7.5t           67      857    5172\n",
       "Minibus (8 - 16 passenger seats)          29      276    1671\n",
       "Motorcycle 125cc and under               189     2031   13049\n",
       "Motorcycle 50cc and under                 95     1014    6494\n",
       "Motorcycle over 125cc and up to 500cc    105     1014    6537\n",
       "Motorcycle over 500cc                    339     3457   21861\n",
       "Other vehicle                             70      767    4800\n",
       "Pedal cycle                                6       39     152\n",
       "Ridden horse                               0        0       4\n",
       "Taxi/Private hire car                    155     1771   11368\n",
       "Van / Goods 3.5 tonnes mgw or under      467     4554   29139"
      ]
     },
     "execution_count": 31,
     "metadata": {},
     "output_type": "execute_result"
    }
   ],
   "source": [
    "vehicle_severity"
   ]
  },
  {
   "cell_type": "markdown",
   "id": "739aa2fb-86ba-4bde-8fb0-71a514e9fcc0",
   "metadata": {},
   "source": [
    "<h1>Car has the highest record in accident</h1>"
   ]
  },
  {
   "cell_type": "markdown",
   "id": "0cf1c05d-f534-4160-b6ef-15636527e95a",
   "metadata": {},
   "source": [
    "<h1>Insight no.10</h1>\n",
    "<h2>Which Month has the highest accident in the year 2021</h2>"
   ]
  },
  {
   "cell_type": "code",
   "execution_count": 32,
   "id": "a5a07f30-09a4-4c8a-b09d-f8c0cc2a86f3",
   "metadata": {},
   "outputs": [],
   "source": [
    "monthly_accidents = df2021['Month'].value_counts().sort_index()"
   ]
  },
  {
   "cell_type": "code",
   "execution_count": 33,
   "id": "834ffbf7-920e-4e2c-8848-440abfbd7e0a",
   "metadata": {},
   "outputs": [
    {
     "data": {
      "text/plain": [
       "Month\n",
       "1     13417\n",
       "2     10950\n",
       "3     13202\n",
       "4     12715\n",
       "5     13811\n",
       "6     13936\n",
       "7     14300\n",
       "8     13415\n",
       "9     13792\n",
       "10    14834\n",
       "11    15473\n",
       "12    13709\n",
       "Name: count, dtype: int64"
      ]
     },
     "execution_count": 33,
     "metadata": {},
     "output_type": "execute_result"
    }
   ],
   "source": [
    "monthly_accidents"
   ]
  },
  {
   "cell_type": "markdown",
   "id": "f52d96a2-7097-4acb-b45e-43f395560fbd",
   "metadata": {},
   "source": [
    "<h1>month of nevember has the highesst accident in 2021</h1>"
   ]
  },
  {
   "cell_type": "code",
   "execution_count": 34,
   "id": "d95e0ede-638e-4e98-b68d-3d76984bb1e1",
   "metadata": {},
   "outputs": [],
   "source": [
    "df2021 = accident[accident['Year'] == 2021]"
   ]
  },
  {
   "cell_type": "code",
   "execution_count": 35,
   "id": "a356aa2a-4485-4d43-9aaa-4ca08ba1aa46",
   "metadata": {},
   "outputs": [
    {
     "data": {
      "text/html": [
       "<div>\n",
       "<style scoped>\n",
       "    .dataframe tbody tr th:only-of-type {\n",
       "        vertical-align: middle;\n",
       "    }\n",
       "\n",
       "    .dataframe tbody tr th {\n",
       "        vertical-align: top;\n",
       "    }\n",
       "\n",
       "    .dataframe thead th {\n",
       "        text-align: right;\n",
       "    }\n",
       "</style>\n",
       "<table border=\"1\" class=\"dataframe\">\n",
       "  <thead>\n",
       "    <tr style=\"text-align: right;\">\n",
       "      <th></th>\n",
       "      <th>Index</th>\n",
       "      <th>Accident_Severity</th>\n",
       "      <th>Accident Date</th>\n",
       "      <th>Latitude</th>\n",
       "      <th>Light_Conditions</th>\n",
       "      <th>District Area</th>\n",
       "      <th>Longitude</th>\n",
       "      <th>Number_of_Casualties</th>\n",
       "      <th>Number_of_Vehicles</th>\n",
       "      <th>Road_Surface_Conditions</th>\n",
       "      <th>Road_Type</th>\n",
       "      <th>Urban_or_Rural_Area</th>\n",
       "      <th>Weather_Conditions</th>\n",
       "      <th>Vehicle_Type</th>\n",
       "      <th>Year</th>\n",
       "      <th>Month</th>\n",
       "      <th>Day</th>\n",
       "      <th>DayOfWeek</th>\n",
       "    </tr>\n",
       "  </thead>\n",
       "  <tbody>\n",
       "    <tr>\n",
       "      <th>352706</th>\n",
       "      <td>200901BS70001</td>\n",
       "      <td>Serious</td>\n",
       "      <td>2021-01-01</td>\n",
       "      <td>51.512273</td>\n",
       "      <td>Daylight</td>\n",
       "      <td>Kensington and Chelsea</td>\n",
       "      <td>-0.201349</td>\n",
       "      <td>1</td>\n",
       "      <td>2</td>\n",
       "      <td>Dry</td>\n",
       "      <td>One way street</td>\n",
       "      <td>Urban</td>\n",
       "      <td>Fine no high winds</td>\n",
       "      <td>Car</td>\n",
       "      <td>2021</td>\n",
       "      <td>1</td>\n",
       "      <td>1</td>\n",
       "      <td>4</td>\n",
       "    </tr>\n",
       "    <tr>\n",
       "      <th>352707</th>\n",
       "      <td>200901BS70002</td>\n",
       "      <td>Serious</td>\n",
       "      <td>2021-01-05</td>\n",
       "      <td>51.514399</td>\n",
       "      <td>Daylight</td>\n",
       "      <td>Kensington and Chelsea</td>\n",
       "      <td>-0.199248</td>\n",
       "      <td>11</td>\n",
       "      <td>2</td>\n",
       "      <td>Wet or damp</td>\n",
       "      <td>Single carriageway</td>\n",
       "      <td>Urban</td>\n",
       "      <td>Fine no high winds</td>\n",
       "      <td>Taxi/Private hire car</td>\n",
       "      <td>2021</td>\n",
       "      <td>1</td>\n",
       "      <td>5</td>\n",
       "      <td>1</td>\n",
       "    </tr>\n",
       "    <tr>\n",
       "      <th>352708</th>\n",
       "      <td>200901BS70003</td>\n",
       "      <td>Slight</td>\n",
       "      <td>2021-01-04</td>\n",
       "      <td>51.486668</td>\n",
       "      <td>Daylight</td>\n",
       "      <td>Kensington and Chelsea</td>\n",
       "      <td>-0.179599</td>\n",
       "      <td>1</td>\n",
       "      <td>2</td>\n",
       "      <td>Dry</td>\n",
       "      <td>Single carriageway</td>\n",
       "      <td>Urban</td>\n",
       "      <td>Fine no high winds</td>\n",
       "      <td>Taxi/Private hire car</td>\n",
       "      <td>2021</td>\n",
       "      <td>1</td>\n",
       "      <td>4</td>\n",
       "      <td>0</td>\n",
       "    </tr>\n",
       "    <tr>\n",
       "      <th>352709</th>\n",
       "      <td>200901BS70004</td>\n",
       "      <td>Serious</td>\n",
       "      <td>2021-01-05</td>\n",
       "      <td>51.507804</td>\n",
       "      <td>Daylight</td>\n",
       "      <td>Kensington and Chelsea</td>\n",
       "      <td>-0.203110</td>\n",
       "      <td>1</td>\n",
       "      <td>2</td>\n",
       "      <td>Frost or ice</td>\n",
       "      <td>Single carriageway</td>\n",
       "      <td>Urban</td>\n",
       "      <td>Other</td>\n",
       "      <td>Motorcycle over 500cc</td>\n",
       "      <td>2021</td>\n",
       "      <td>1</td>\n",
       "      <td>5</td>\n",
       "      <td>1</td>\n",
       "    </tr>\n",
       "    <tr>\n",
       "      <th>352710</th>\n",
       "      <td>200901BS70005</td>\n",
       "      <td>Serious</td>\n",
       "      <td>2021-01-06</td>\n",
       "      <td>51.482076</td>\n",
       "      <td>Darkness - lights lit</td>\n",
       "      <td>Kensington and Chelsea</td>\n",
       "      <td>-0.173445</td>\n",
       "      <td>1</td>\n",
       "      <td>2</td>\n",
       "      <td>Dry</td>\n",
       "      <td>Single carriageway</td>\n",
       "      <td>Urban</td>\n",
       "      <td>Fine no high winds</td>\n",
       "      <td>Car</td>\n",
       "      <td>2021</td>\n",
       "      <td>1</td>\n",
       "      <td>6</td>\n",
       "      <td>2</td>\n",
       "    </tr>\n",
       "    <tr>\n",
       "      <th>...</th>\n",
       "      <td>...</td>\n",
       "      <td>...</td>\n",
       "      <td>...</td>\n",
       "      <td>...</td>\n",
       "      <td>...</td>\n",
       "      <td>...</td>\n",
       "      <td>...</td>\n",
       "      <td>...</td>\n",
       "      <td>...</td>\n",
       "      <td>...</td>\n",
       "      <td>...</td>\n",
       "      <td>...</td>\n",
       "      <td>...</td>\n",
       "      <td>...</td>\n",
       "      <td>...</td>\n",
       "      <td>...</td>\n",
       "      <td>...</td>\n",
       "      <td>...</td>\n",
       "    </tr>\n",
       "    <tr>\n",
       "      <th>516255</th>\n",
       "      <td>2.01E+12</td>\n",
       "      <td>Serious</td>\n",
       "      <td>2021-12-15</td>\n",
       "      <td>55.072192</td>\n",
       "      <td>Darkness - no lighting</td>\n",
       "      <td>Dumfries and Galloway</td>\n",
       "      <td>-3.297647</td>\n",
       "      <td>1</td>\n",
       "      <td>5</td>\n",
       "      <td>Dry</td>\n",
       "      <td>Dual carriageway</td>\n",
       "      <td>Rural</td>\n",
       "      <td>Fine no high winds</td>\n",
       "      <td>Motorcycle 125cc and under</td>\n",
       "      <td>2021</td>\n",
       "      <td>12</td>\n",
       "      <td>15</td>\n",
       "      <td>2</td>\n",
       "    </tr>\n",
       "    <tr>\n",
       "      <th>516256</th>\n",
       "      <td>2.01E+12</td>\n",
       "      <td>Serious</td>\n",
       "      <td>2021-12-20</td>\n",
       "      <td>55.008460</td>\n",
       "      <td>Darkness - lights lit</td>\n",
       "      <td>Dumfries and Galloway</td>\n",
       "      <td>-3.088242</td>\n",
       "      <td>1</td>\n",
       "      <td>1</td>\n",
       "      <td>Frost or ice</td>\n",
       "      <td>Slip road</td>\n",
       "      <td>Rural</td>\n",
       "      <td>Fine no high winds</td>\n",
       "      <td>Car</td>\n",
       "      <td>2021</td>\n",
       "      <td>12</td>\n",
       "      <td>20</td>\n",
       "      <td>0</td>\n",
       "    </tr>\n",
       "    <tr>\n",
       "      <th>516257</th>\n",
       "      <td>2.01E+12</td>\n",
       "      <td>Slight</td>\n",
       "      <td>2021-12-23</td>\n",
       "      <td>54.995302</td>\n",
       "      <td>Daylight</td>\n",
       "      <td>Dumfries and Galloway</td>\n",
       "      <td>-3.259680</td>\n",
       "      <td>1</td>\n",
       "      <td>1</td>\n",
       "      <td>Frost or ice</td>\n",
       "      <td>Single carriageway</td>\n",
       "      <td>Rural</td>\n",
       "      <td>Snowing + high winds</td>\n",
       "      <td>Motorcycle over 125cc and up to 500cc</td>\n",
       "      <td>2021</td>\n",
       "      <td>12</td>\n",
       "      <td>23</td>\n",
       "      <td>3</td>\n",
       "    </tr>\n",
       "    <tr>\n",
       "      <th>516258</th>\n",
       "      <td>2.01E+12</td>\n",
       "      <td>Slight</td>\n",
       "      <td>2021-12-21</td>\n",
       "      <td>55.120172</td>\n",
       "      <td>Darkness - lights lit</td>\n",
       "      <td>Dumfries and Galloway</td>\n",
       "      <td>-3.356438</td>\n",
       "      <td>1</td>\n",
       "      <td>2</td>\n",
       "      <td>Frost or ice</td>\n",
       "      <td>Single carriageway</td>\n",
       "      <td>Rural</td>\n",
       "      <td>Other</td>\n",
       "      <td>Car</td>\n",
       "      <td>2021</td>\n",
       "      <td>12</td>\n",
       "      <td>21</td>\n",
       "      <td>1</td>\n",
       "    </tr>\n",
       "    <tr>\n",
       "      <th>516259</th>\n",
       "      <td>2.01E+12</td>\n",
       "      <td>Slight</td>\n",
       "      <td>2021-12-29</td>\n",
       "      <td>55.051830</td>\n",
       "      <td>Darkness - no lighting</td>\n",
       "      <td>Dumfries and Galloway</td>\n",
       "      <td>-3.302467</td>\n",
       "      <td>1</td>\n",
       "      <td>1</td>\n",
       "      <td>Frost or ice</td>\n",
       "      <td>Single carriageway</td>\n",
       "      <td>Rural</td>\n",
       "      <td>Other</td>\n",
       "      <td>Motorcycle over 125cc and up to 500cc</td>\n",
       "      <td>2021</td>\n",
       "      <td>12</td>\n",
       "      <td>29</td>\n",
       "      <td>2</td>\n",
       "    </tr>\n",
       "  </tbody>\n",
       "</table>\n",
       "<p>163554 rows × 18 columns</p>\n",
       "</div>"
      ],
      "text/plain": [
       "                Index Accident_Severity Accident Date   Latitude  \\\n",
       "352706  200901BS70001           Serious    2021-01-01  51.512273   \n",
       "352707  200901BS70002           Serious    2021-01-05  51.514399   \n",
       "352708  200901BS70003            Slight    2021-01-04  51.486668   \n",
       "352709  200901BS70004           Serious    2021-01-05  51.507804   \n",
       "352710  200901BS70005           Serious    2021-01-06  51.482076   \n",
       "...               ...               ...           ...        ...   \n",
       "516255       2.01E+12           Serious    2021-12-15  55.072192   \n",
       "516256       2.01E+12           Serious    2021-12-20  55.008460   \n",
       "516257       2.01E+12            Slight    2021-12-23  54.995302   \n",
       "516258       2.01E+12            Slight    2021-12-21  55.120172   \n",
       "516259       2.01E+12            Slight    2021-12-29  55.051830   \n",
       "\n",
       "              Light_Conditions           District Area Longitude  \\\n",
       "352706                Daylight  Kensington and Chelsea -0.201349   \n",
       "352707                Daylight  Kensington and Chelsea -0.199248   \n",
       "352708                Daylight  Kensington and Chelsea -0.179599   \n",
       "352709                Daylight  Kensington and Chelsea -0.203110   \n",
       "352710   Darkness - lights lit  Kensington and Chelsea -0.173445   \n",
       "...                        ...                     ...       ...   \n",
       "516255  Darkness - no lighting   Dumfries and Galloway -3.297647   \n",
       "516256   Darkness - lights lit   Dumfries and Galloway -3.088242   \n",
       "516257                Daylight   Dumfries and Galloway -3.259680   \n",
       "516258   Darkness - lights lit   Dumfries and Galloway -3.356438   \n",
       "516259  Darkness - no lighting   Dumfries and Galloway -3.302467   \n",
       "\n",
       "        Number_of_Casualties  Number_of_Vehicles Road_Surface_Conditions  \\\n",
       "352706                     1                   2                     Dry   \n",
       "352707                    11                   2             Wet or damp   \n",
       "352708                     1                   2                     Dry   \n",
       "352709                     1                   2            Frost or ice   \n",
       "352710                     1                   2                     Dry   \n",
       "...                      ...                 ...                     ...   \n",
       "516255                     1                   5                     Dry   \n",
       "516256                     1                   1            Frost or ice   \n",
       "516257                     1                   1            Frost or ice   \n",
       "516258                     1                   2            Frost or ice   \n",
       "516259                     1                   1            Frost or ice   \n",
       "\n",
       "                 Road_Type Urban_or_Rural_Area    Weather_Conditions  \\\n",
       "352706      One way street               Urban    Fine no high winds   \n",
       "352707  Single carriageway               Urban    Fine no high winds   \n",
       "352708  Single carriageway               Urban    Fine no high winds   \n",
       "352709  Single carriageway               Urban                 Other   \n",
       "352710  Single carriageway               Urban    Fine no high winds   \n",
       "...                    ...                 ...                   ...   \n",
       "516255    Dual carriageway               Rural    Fine no high winds   \n",
       "516256           Slip road               Rural    Fine no high winds   \n",
       "516257  Single carriageway               Rural  Snowing + high winds   \n",
       "516258  Single carriageway               Rural                 Other   \n",
       "516259  Single carriageway               Rural                 Other   \n",
       "\n",
       "                                 Vehicle_Type  Year  Month  Day  DayOfWeek  \n",
       "352706                                    Car  2021      1    1          4  \n",
       "352707                  Taxi/Private hire car  2021      1    5          1  \n",
       "352708                  Taxi/Private hire car  2021      1    4          0  \n",
       "352709                  Motorcycle over 500cc  2021      1    5          1  \n",
       "352710                                    Car  2021      1    6          2  \n",
       "...                                       ...   ...    ...  ...        ...  \n",
       "516255             Motorcycle 125cc and under  2021     12   15          2  \n",
       "516256                                    Car  2021     12   20          0  \n",
       "516257  Motorcycle over 125cc and up to 500cc  2021     12   23          3  \n",
       "516258                                    Car  2021     12   21          1  \n",
       "516259  Motorcycle over 125cc and up to 500cc  2021     12   29          2  \n",
       "\n",
       "[163554 rows x 18 columns]"
      ]
     },
     "execution_count": 35,
     "metadata": {},
     "output_type": "execute_result"
    }
   ],
   "source": [
    "df2021"
   ]
  },
  {
   "cell_type": "markdown",
   "id": "edd546e5-bdc9-49c7-9728-a19d1b07453c",
   "metadata": {},
   "source": [
    "<h1>Insight no.11</h1>\n",
    "<h2>How many Fatal Accident happen in 2021</h2>"
   ]
  },
  {
   "cell_type": "code",
   "execution_count": 36,
   "id": "15fe6a0a-cfd6-4077-8b92-7e3ea7c1da68",
   "metadata": {},
   "outputs": [
    {
     "data": {
      "text/plain": [
       "25"
      ]
     },
     "execution_count": 36,
     "metadata": {},
     "output_type": "execute_result"
    }
   ],
   "source": [
    "df2021[(df2021['Accident_Severity'] == 'Fatal') & (df2021['Road_Type'] == 'One way street')].shape[0]"
   ]
  },
  {
   "cell_type": "markdown",
   "id": "bd4480ee-7cfd-44b4-9b92-1e4d8a3dff7b",
   "metadata": {},
   "source": [
    "<h1>There are 25 Fatal accident happen in 2021</h1>"
   ]
  },
  {
   "cell_type": "markdown",
   "id": "e3d72500-5644-4f08-a208-176514bbd3bd",
   "metadata": {},
   "source": [
    "<h1>Insight no.12</h1>\n",
    "<h2>What day has the most accident in year 2021</h2>"
   ]
  },
  {
   "cell_type": "code",
   "execution_count": 37,
   "id": "e74275d5-f9f2-4c00-b7ed-981f649261f1",
   "metadata": {},
   "outputs": [
    {
     "data": {
      "text/plain": [
       "Day\n",
       "6     5712\n",
       "11    5710\n",
       "21    5690\n",
       "2     5655\n",
       "10    5629\n",
       "12    5613\n",
       "17    5556\n",
       "9     5543\n",
       "20    5531\n",
       "16    5511\n",
       "24    5510\n",
       "13    5484\n",
       "1     5435\n",
       "3     5428\n",
       "23    5425\n",
       "5     5417\n",
       "8     5382\n",
       "27    5377\n",
       "4     5327\n",
       "7     5321\n",
       "14    5308\n",
       "19    5302\n",
       "15    5158\n",
       "28    5101\n",
       "18    5092\n",
       "22    5083\n",
       "26    4961\n",
       "30    4953\n",
       "25    4773\n",
       "29    4671\n",
       "31    2896\n",
       "Name: count, dtype: int64"
      ]
     },
     "execution_count": 37,
     "metadata": {},
     "output_type": "execute_result"
    }
   ],
   "source": [
    "df2021['Day'].value_counts()"
   ]
  },
  {
   "cell_type": "markdown",
   "id": "993c2a10-aeb0-4ab2-9f8b-32335e05933d",
   "metadata": {},
   "source": [
    "<h1>Day 6 has the most accident in the year of 2021</h1>"
   ]
  },
  {
   "cell_type": "code",
   "execution_count": 38,
   "id": "80e6c89f-4ea7-4865-892d-f07d003c7120",
   "metadata": {},
   "outputs": [],
   "source": [
    "day = df2021[df2021['Day'] == 1]"
   ]
  },
  {
   "cell_type": "code",
   "execution_count": 39,
   "id": "42d906bd-0c3e-4229-9605-e8837fa3dda1",
   "metadata": {},
   "outputs": [
    {
     "data": {
      "text/html": [
       "<div>\n",
       "<style scoped>\n",
       "    .dataframe tbody tr th:only-of-type {\n",
       "        vertical-align: middle;\n",
       "    }\n",
       "\n",
       "    .dataframe tbody tr th {\n",
       "        vertical-align: top;\n",
       "    }\n",
       "\n",
       "    .dataframe thead th {\n",
       "        text-align: right;\n",
       "    }\n",
       "</style>\n",
       "<table border=\"1\" class=\"dataframe\">\n",
       "  <thead>\n",
       "    <tr style=\"text-align: right;\">\n",
       "      <th></th>\n",
       "      <th>Index</th>\n",
       "      <th>Accident_Severity</th>\n",
       "      <th>Accident Date</th>\n",
       "      <th>Latitude</th>\n",
       "      <th>Light_Conditions</th>\n",
       "      <th>District Area</th>\n",
       "      <th>Longitude</th>\n",
       "      <th>Number_of_Casualties</th>\n",
       "      <th>Number_of_Vehicles</th>\n",
       "      <th>Road_Surface_Conditions</th>\n",
       "      <th>Road_Type</th>\n",
       "      <th>Urban_or_Rural_Area</th>\n",
       "      <th>Weather_Conditions</th>\n",
       "      <th>Vehicle_Type</th>\n",
       "      <th>Year</th>\n",
       "      <th>Month</th>\n",
       "      <th>Day</th>\n",
       "      <th>DayOfWeek</th>\n",
       "    </tr>\n",
       "  </thead>\n",
       "  <tbody>\n",
       "    <tr>\n",
       "      <th>352706</th>\n",
       "      <td>200901BS70001</td>\n",
       "      <td>Serious</td>\n",
       "      <td>2021-01-01</td>\n",
       "      <td>51.512273</td>\n",
       "      <td>Daylight</td>\n",
       "      <td>Kensington and Chelsea</td>\n",
       "      <td>-0.201349</td>\n",
       "      <td>1</td>\n",
       "      <td>2</td>\n",
       "      <td>Dry</td>\n",
       "      <td>One way street</td>\n",
       "      <td>Urban</td>\n",
       "      <td>Fine no high winds</td>\n",
       "      <td>Car</td>\n",
       "      <td>2021</td>\n",
       "      <td>1</td>\n",
       "      <td>1</td>\n",
       "      <td>4</td>\n",
       "    </tr>\n",
       "    <tr>\n",
       "      <th>352711</th>\n",
       "      <td>200901BS70006</td>\n",
       "      <td>Slight</td>\n",
       "      <td>2021-01-01</td>\n",
       "      <td>51.493415</td>\n",
       "      <td>Daylight</td>\n",
       "      <td>Kensington and Chelsea</td>\n",
       "      <td>-0.185525</td>\n",
       "      <td>3</td>\n",
       "      <td>2</td>\n",
       "      <td>Dry</td>\n",
       "      <td>Single carriageway</td>\n",
       "      <td>Urban</td>\n",
       "      <td>Fine no high winds</td>\n",
       "      <td>Car</td>\n",
       "      <td>2021</td>\n",
       "      <td>1</td>\n",
       "      <td>1</td>\n",
       "      <td>4</td>\n",
       "    </tr>\n",
       "    <tr>\n",
       "      <th>352799</th>\n",
       "      <td>200901BS70120</td>\n",
       "      <td>Slight</td>\n",
       "      <td>2021-03-01</td>\n",
       "      <td>51.484361</td>\n",
       "      <td>Daylight</td>\n",
       "      <td>Kensington and Chelsea</td>\n",
       "      <td>-0.175802</td>\n",
       "      <td>1</td>\n",
       "      <td>2</td>\n",
       "      <td>Dry</td>\n",
       "      <td>Single carriageway</td>\n",
       "      <td>Urban</td>\n",
       "      <td>Fine no high winds</td>\n",
       "      <td>Van / Goods 3.5 tonnes mgw or under</td>\n",
       "      <td>2021</td>\n",
       "      <td>3</td>\n",
       "      <td>1</td>\n",
       "      <td>0</td>\n",
       "    </tr>\n",
       "    <tr>\n",
       "      <th>352831</th>\n",
       "      <td>200901BS70155</td>\n",
       "      <td>Slight</td>\n",
       "      <td>2021-04-01</td>\n",
       "      <td>51.493723</td>\n",
       "      <td>Daylight</td>\n",
       "      <td>Kensington and Chelsea</td>\n",
       "      <td>-0.182199</td>\n",
       "      <td>1</td>\n",
       "      <td>1</td>\n",
       "      <td>Dry</td>\n",
       "      <td>Single carriageway</td>\n",
       "      <td>Urban</td>\n",
       "      <td>Fine no high winds</td>\n",
       "      <td>Car</td>\n",
       "      <td>2021</td>\n",
       "      <td>4</td>\n",
       "      <td>1</td>\n",
       "      <td>3</td>\n",
       "    </tr>\n",
       "    <tr>\n",
       "      <th>352845</th>\n",
       "      <td>200901BS70172</td>\n",
       "      <td>Slight</td>\n",
       "      <td>2021-04-01</td>\n",
       "      <td>51.492747</td>\n",
       "      <td>Darkness - lights lit</td>\n",
       "      <td>Kensington and Chelsea</td>\n",
       "      <td>-0.200533</td>\n",
       "      <td>1</td>\n",
       "      <td>2</td>\n",
       "      <td>Dry</td>\n",
       "      <td>One way street</td>\n",
       "      <td>Urban</td>\n",
       "      <td>Fine no high winds</td>\n",
       "      <td>Car</td>\n",
       "      <td>2021</td>\n",
       "      <td>4</td>\n",
       "      <td>1</td>\n",
       "      <td>3</td>\n",
       "    </tr>\n",
       "    <tr>\n",
       "      <th>...</th>\n",
       "      <td>...</td>\n",
       "      <td>...</td>\n",
       "      <td>...</td>\n",
       "      <td>...</td>\n",
       "      <td>...</td>\n",
       "      <td>...</td>\n",
       "      <td>...</td>\n",
       "      <td>...</td>\n",
       "      <td>...</td>\n",
       "      <td>...</td>\n",
       "      <td>...</td>\n",
       "      <td>...</td>\n",
       "      <td>...</td>\n",
       "      <td>...</td>\n",
       "      <td>...</td>\n",
       "      <td>...</td>\n",
       "      <td>...</td>\n",
       "      <td>...</td>\n",
       "    </tr>\n",
       "    <tr>\n",
       "      <th>516188</th>\n",
       "      <td>2.01E+12</td>\n",
       "      <td>Serious</td>\n",
       "      <td>2021-06-01</td>\n",
       "      <td>55.159295</td>\n",
       "      <td>Darkness - no lighting</td>\n",
       "      <td>Dumfries and Galloway</td>\n",
       "      <td>-3.385705</td>\n",
       "      <td>2</td>\n",
       "      <td>2</td>\n",
       "      <td>Dry</td>\n",
       "      <td>Dual carriageway</td>\n",
       "      <td>Rural</td>\n",
       "      <td>Fine no high winds</td>\n",
       "      <td>Bus or coach (17 or more pass seats)</td>\n",
       "      <td>2021</td>\n",
       "      <td>6</td>\n",
       "      <td>1</td>\n",
       "      <td>1</td>\n",
       "    </tr>\n",
       "    <tr>\n",
       "      <th>516189</th>\n",
       "      <td>2.01E+12</td>\n",
       "      <td>Slight</td>\n",
       "      <td>2021-06-01</td>\n",
       "      <td>55.116800</td>\n",
       "      <td>Daylight</td>\n",
       "      <td>Dumfries and Galloway</td>\n",
       "      <td>-3.483800</td>\n",
       "      <td>1</td>\n",
       "      <td>2</td>\n",
       "      <td>Dry</td>\n",
       "      <td>Single carriageway</td>\n",
       "      <td>Rural</td>\n",
       "      <td>Fine no high winds</td>\n",
       "      <td>Motorcycle over 500cc</td>\n",
       "      <td>2021</td>\n",
       "      <td>6</td>\n",
       "      <td>1</td>\n",
       "      <td>1</td>\n",
       "    </tr>\n",
       "    <tr>\n",
       "      <th>516224</th>\n",
       "      <td>2.01E+12</td>\n",
       "      <td>Slight</td>\n",
       "      <td>2021-09-01</td>\n",
       "      <td>55.127244</td>\n",
       "      <td>Daylight</td>\n",
       "      <td>Dumfries and Galloway</td>\n",
       "      <td>-3.459877</td>\n",
       "      <td>2</td>\n",
       "      <td>1</td>\n",
       "      <td>Wet or damp</td>\n",
       "      <td>Single carriageway</td>\n",
       "      <td>Rural</td>\n",
       "      <td>Raining no high winds</td>\n",
       "      <td>Car</td>\n",
       "      <td>2021</td>\n",
       "      <td>9</td>\n",
       "      <td>1</td>\n",
       "      <td>2</td>\n",
       "    </tr>\n",
       "    <tr>\n",
       "      <th>516247</th>\n",
       "      <td>2.01E+12</td>\n",
       "      <td>Slight</td>\n",
       "      <td>2021-12-01</td>\n",
       "      <td>55.115346</td>\n",
       "      <td>Darkness - no lighting</td>\n",
       "      <td>Dumfries and Galloway</td>\n",
       "      <td>-3.409426</td>\n",
       "      <td>1</td>\n",
       "      <td>2</td>\n",
       "      <td>Frost or ice</td>\n",
       "      <td>Single carriageway</td>\n",
       "      <td>Rural</td>\n",
       "      <td>Other</td>\n",
       "      <td>Car</td>\n",
       "      <td>2021</td>\n",
       "      <td>12</td>\n",
       "      <td>1</td>\n",
       "      <td>2</td>\n",
       "    </tr>\n",
       "    <tr>\n",
       "      <th>516250</th>\n",
       "      <td>2.01E+12</td>\n",
       "      <td>Slight</td>\n",
       "      <td>2021-12-01</td>\n",
       "      <td>55.313433</td>\n",
       "      <td>Darkness - lights lit</td>\n",
       "      <td>Dumfries and Galloway</td>\n",
       "      <td>-3.454262</td>\n",
       "      <td>1</td>\n",
       "      <td>1</td>\n",
       "      <td>Snow</td>\n",
       "      <td>Dual carriageway</td>\n",
       "      <td>Rural</td>\n",
       "      <td>Snowing no high winds</td>\n",
       "      <td>Car</td>\n",
       "      <td>2021</td>\n",
       "      <td>12</td>\n",
       "      <td>1</td>\n",
       "      <td>2</td>\n",
       "    </tr>\n",
       "  </tbody>\n",
       "</table>\n",
       "<p>5435 rows × 18 columns</p>\n",
       "</div>"
      ],
      "text/plain": [
       "                Index Accident_Severity Accident Date   Latitude  \\\n",
       "352706  200901BS70001           Serious    2021-01-01  51.512273   \n",
       "352711  200901BS70006            Slight    2021-01-01  51.493415   \n",
       "352799  200901BS70120            Slight    2021-03-01  51.484361   \n",
       "352831  200901BS70155            Slight    2021-04-01  51.493723   \n",
       "352845  200901BS70172            Slight    2021-04-01  51.492747   \n",
       "...               ...               ...           ...        ...   \n",
       "516188       2.01E+12           Serious    2021-06-01  55.159295   \n",
       "516189       2.01E+12            Slight    2021-06-01  55.116800   \n",
       "516224       2.01E+12            Slight    2021-09-01  55.127244   \n",
       "516247       2.01E+12            Slight    2021-12-01  55.115346   \n",
       "516250       2.01E+12            Slight    2021-12-01  55.313433   \n",
       "\n",
       "              Light_Conditions           District Area Longitude  \\\n",
       "352706                Daylight  Kensington and Chelsea -0.201349   \n",
       "352711                Daylight  Kensington and Chelsea -0.185525   \n",
       "352799                Daylight  Kensington and Chelsea -0.175802   \n",
       "352831                Daylight  Kensington and Chelsea -0.182199   \n",
       "352845   Darkness - lights lit  Kensington and Chelsea -0.200533   \n",
       "...                        ...                     ...       ...   \n",
       "516188  Darkness - no lighting   Dumfries and Galloway -3.385705   \n",
       "516189                Daylight   Dumfries and Galloway -3.483800   \n",
       "516224                Daylight   Dumfries and Galloway -3.459877   \n",
       "516247  Darkness - no lighting   Dumfries and Galloway -3.409426   \n",
       "516250   Darkness - lights lit   Dumfries and Galloway -3.454262   \n",
       "\n",
       "        Number_of_Casualties  Number_of_Vehicles Road_Surface_Conditions  \\\n",
       "352706                     1                   2                     Dry   \n",
       "352711                     3                   2                     Dry   \n",
       "352799                     1                   2                     Dry   \n",
       "352831                     1                   1                     Dry   \n",
       "352845                     1                   2                     Dry   \n",
       "...                      ...                 ...                     ...   \n",
       "516188                     2                   2                     Dry   \n",
       "516189                     1                   2                     Dry   \n",
       "516224                     2                   1             Wet or damp   \n",
       "516247                     1                   2            Frost or ice   \n",
       "516250                     1                   1                    Snow   \n",
       "\n",
       "                 Road_Type Urban_or_Rural_Area     Weather_Conditions  \\\n",
       "352706      One way street               Urban     Fine no high winds   \n",
       "352711  Single carriageway               Urban     Fine no high winds   \n",
       "352799  Single carriageway               Urban     Fine no high winds   \n",
       "352831  Single carriageway               Urban     Fine no high winds   \n",
       "352845      One way street               Urban     Fine no high winds   \n",
       "...                    ...                 ...                    ...   \n",
       "516188    Dual carriageway               Rural     Fine no high winds   \n",
       "516189  Single carriageway               Rural     Fine no high winds   \n",
       "516224  Single carriageway               Rural  Raining no high winds   \n",
       "516247  Single carriageway               Rural                  Other   \n",
       "516250    Dual carriageway               Rural  Snowing no high winds   \n",
       "\n",
       "                                Vehicle_Type  Year  Month  Day  DayOfWeek  \n",
       "352706                                   Car  2021      1    1          4  \n",
       "352711                                   Car  2021      1    1          4  \n",
       "352799   Van / Goods 3.5 tonnes mgw or under  2021      3    1          0  \n",
       "352831                                   Car  2021      4    1          3  \n",
       "352845                                   Car  2021      4    1          3  \n",
       "...                                      ...   ...    ...  ...        ...  \n",
       "516188  Bus or coach (17 or more pass seats)  2021      6    1          1  \n",
       "516189                 Motorcycle over 500cc  2021      6    1          1  \n",
       "516224                                   Car  2021      9    1          2  \n",
       "516247                                   Car  2021     12    1          2  \n",
       "516250                                   Car  2021     12    1          2  \n",
       "\n",
       "[5435 rows x 18 columns]"
      ]
     },
     "execution_count": 39,
     "metadata": {},
     "output_type": "execute_result"
    }
   ],
   "source": [
    "day"
   ]
  },
  {
   "cell_type": "markdown",
   "id": "42d0583d-26f1-4935-a0b5-95dda3a7d89d",
   "metadata": {},
   "source": [
    "<h1>Insight no.13</h1>\n",
    "<h2>Which road type has the most serious accidents?</h2>"
   ]
  },
  {
   "cell_type": "code",
   "execution_count": 40,
   "id": "94b0bf7e-a1a7-4d7c-a4eb-876eda3a45a9",
   "metadata": {},
   "outputs": [],
   "source": [
    "severity_road_type = accident.groupby(['Road_Type', 'Accident_Severity']).size().unstack()"
   ]
  },
  {
   "cell_type": "code",
   "execution_count": 41,
   "id": "3a7f13fc-4a97-4c5e-8761-122dd49c1a10",
   "metadata": {},
   "outputs": [
    {
     "data": {
      "text/html": [
       "<div>\n",
       "<style scoped>\n",
       "    .dataframe tbody tr th:only-of-type {\n",
       "        vertical-align: middle;\n",
       "    }\n",
       "\n",
       "    .dataframe tbody tr th {\n",
       "        vertical-align: top;\n",
       "    }\n",
       "\n",
       "    .dataframe thead th {\n",
       "        text-align: right;\n",
       "    }\n",
       "</style>\n",
       "<table border=\"1\" class=\"dataframe\">\n",
       "  <thead>\n",
       "    <tr style=\"text-align: right;\">\n",
       "      <th>Accident_Severity</th>\n",
       "      <th>Fatal</th>\n",
       "      <th>Serious</th>\n",
       "      <th>Slight</th>\n",
       "    </tr>\n",
       "    <tr>\n",
       "      <th>Road_Type</th>\n",
       "      <th></th>\n",
       "      <th></th>\n",
       "      <th></th>\n",
       "    </tr>\n",
       "  </thead>\n",
       "  <tbody>\n",
       "    <tr>\n",
       "      <th>Dual carriageway</th>\n",
       "      <td>1815</td>\n",
       "      <td>11746</td>\n",
       "      <td>85863</td>\n",
       "    </tr>\n",
       "    <tr>\n",
       "      <th>One way street</th>\n",
       "      <td>95</td>\n",
       "      <td>1655</td>\n",
       "      <td>11809</td>\n",
       "    </tr>\n",
       "    <tr>\n",
       "      <th>Roundabout</th>\n",
       "      <td>142</td>\n",
       "      <td>3665</td>\n",
       "      <td>40185</td>\n",
       "    </tr>\n",
       "    <tr>\n",
       "      <th>Single carriageway</th>\n",
       "      <td>6527</td>\n",
       "      <td>70059</td>\n",
       "      <td>415557</td>\n",
       "    </tr>\n",
       "    <tr>\n",
       "      <th>Slip road</th>\n",
       "      <td>49</td>\n",
       "      <td>611</td>\n",
       "      <td>6381</td>\n",
       "    </tr>\n",
       "    <tr>\n",
       "      <th>unacounted</th>\n",
       "      <td>33</td>\n",
       "      <td>481</td>\n",
       "      <td>4006</td>\n",
       "    </tr>\n",
       "  </tbody>\n",
       "</table>\n",
       "</div>"
      ],
      "text/plain": [
       "Accident_Severity   Fatal  Serious  Slight\n",
       "Road_Type                                 \n",
       "Dual carriageway     1815    11746   85863\n",
       "One way street         95     1655   11809\n",
       "Roundabout            142     3665   40185\n",
       "Single carriageway   6527    70059  415557\n",
       "Slip road              49      611    6381\n",
       "unacounted             33      481    4006"
      ]
     },
     "execution_count": 41,
     "metadata": {},
     "output_type": "execute_result"
    }
   ],
   "source": [
    "severity_road_type"
   ]
  },
  {
   "cell_type": "markdown",
   "id": "fdcb123c-1475-440a-b11f-e1ca2bf7339c",
   "metadata": {},
   "source": [
    "<h1>Single Carriageway has the most Serious accident among all the Road Type</h1>"
   ]
  },
  {
   "cell_type": "markdown",
   "id": "b133626d-8216-466f-87c9-d2ea15ef03f8",
   "metadata": {},
   "source": [
    "<h1>Insight no.14</h1>\n",
    "<h2>Which has the most accident rural or urban</h2>"
   ]
  },
  {
   "cell_type": "code",
   "execution_count": 42,
   "id": "397aa038-ed47-4cee-867b-acafbf51124b",
   "metadata": {},
   "outputs": [],
   "source": [
    "urban_severity = accident.groupby(['Urban_or_Rural_Area', 'Accident_Severity']).size().unstack()"
   ]
  },
  {
   "cell_type": "code",
   "execution_count": 43,
   "id": "01bccbcb-5f49-4d98-871f-f0bedf526dc5",
   "metadata": {},
   "outputs": [
    {
     "data": {
      "text/html": [
       "<div>\n",
       "<style scoped>\n",
       "    .dataframe tbody tr th:only-of-type {\n",
       "        vertical-align: middle;\n",
       "    }\n",
       "\n",
       "    .dataframe tbody tr th {\n",
       "        vertical-align: top;\n",
       "    }\n",
       "\n",
       "    .dataframe thead th {\n",
       "        text-align: right;\n",
       "    }\n",
       "</style>\n",
       "<table border=\"1\" class=\"dataframe\">\n",
       "  <thead>\n",
       "    <tr style=\"text-align: right;\">\n",
       "      <th>Accident_Severity</th>\n",
       "      <th>Fatal</th>\n",
       "      <th>Serious</th>\n",
       "      <th>Slight</th>\n",
       "    </tr>\n",
       "    <tr>\n",
       "      <th>Urban_or_Rural_Area</th>\n",
       "      <th></th>\n",
       "      <th></th>\n",
       "      <th></th>\n",
       "    </tr>\n",
       "  </thead>\n",
       "  <tbody>\n",
       "    <tr>\n",
       "      <th>Rural</th>\n",
       "      <td>5601</td>\n",
       "      <td>37312</td>\n",
       "      <td>196077</td>\n",
       "    </tr>\n",
       "    <tr>\n",
       "      <th>Unallocated</th>\n",
       "      <td>0</td>\n",
       "      <td>1</td>\n",
       "      <td>10</td>\n",
       "    </tr>\n",
       "    <tr>\n",
       "      <th>Urban</th>\n",
       "      <td>3060</td>\n",
       "      <td>50904</td>\n",
       "      <td>367714</td>\n",
       "    </tr>\n",
       "  </tbody>\n",
       "</table>\n",
       "</div>"
      ],
      "text/plain": [
       "Accident_Severity    Fatal  Serious  Slight\n",
       "Urban_or_Rural_Area                        \n",
       "Rural                 5601    37312  196077\n",
       "Unallocated              0        1      10\n",
       "Urban                 3060    50904  367714"
      ]
     },
     "execution_count": 43,
     "metadata": {},
     "output_type": "execute_result"
    }
   ],
   "source": [
    "urban_severity"
   ]
  },
  {
   "cell_type": "markdown",
   "id": "fd4f45e6-8902-43d2-ac7b-ad83753ea639",
   "metadata": {},
   "source": [
    "<h1>Rural area has the most accident</h1>"
   ]
  },
  {
   "cell_type": "markdown",
   "id": "de7a87bd-5f07-4b7c-8d45-0ad9476591ef",
   "metadata": {},
   "source": [
    "<h1>Insight no.15</h1>\n",
    "<h2>What is the Average Number of Casualties in Urban vs Rural Areas</h2>"
   ]
  },
  {
   "cell_type": "code",
   "execution_count": 44,
   "id": "c36d7981-8e74-4ec1-a8fb-53bc3048f758",
   "metadata": {},
   "outputs": [],
   "source": [
    "casualties_avg = accident.groupby('Urban_or_Rural_Area')['Number_of_Casualties'].mean()"
   ]
  },
  {
   "cell_type": "code",
   "execution_count": 45,
   "id": "7905cfb2-09a6-45fa-a95a-aba62599ee8d",
   "metadata": {},
   "outputs": [
    {
     "data": {
      "text/plain": [
       "Urban_or_Rural_Area\n",
       "Rural          1.479204\n",
       "Unallocated    1.181818\n",
       "Urban          1.287807\n",
       "Name: Number_of_Casualties, dtype: float64"
      ]
     },
     "execution_count": 45,
     "metadata": {},
     "output_type": "execute_result"
    }
   ],
   "source": [
    "casualties_avg"
   ]
  },
  {
   "cell_type": "markdown",
   "id": "1d6733f4-9799-490c-a2b9-5e6c0f8c7232",
   "metadata": {},
   "source": [
    "<h1>There is 1.479204 average number of casualties in rural area and 1.287807 in urban area</h1>"
   ]
  },
  {
   "cell_type": "markdown",
   "id": "5fcd7489-285b-4c6c-8d08-c4b360fd96f8",
   "metadata": {},
   "source": [
    "<h1>Insight no.17</h1>"
   ]
  },
  {
   "cell_type": "markdown",
   "id": "e8057dab-a1c6-4ecc-b128-3b4d13136f3f",
   "metadata": {},
   "source": [
    "<h1>What is the Average Vehicle Involvement in Urban and Rural Areas</h1>"
   ]
  },
  {
   "cell_type": "code",
   "execution_count": 46,
   "id": "18b8fb7d-e3f3-4c42-a272-e8976de2c2c1",
   "metadata": {},
   "outputs": [],
   "source": [
    "vehicles_avg = accident.groupby('Urban_or_Rural_Area')['Number_of_Vehicles'].mean()"
   ]
  },
  {
   "cell_type": "code",
   "execution_count": 47,
   "id": "787dbd7e-119d-4e2a-af5a-435d611c379a",
   "metadata": {},
   "outputs": [
    {
     "data": {
      "text/plain": [
       "Urban_or_Rural_Area\n",
       "Rural          1.866312\n",
       "Unallocated    1.909091\n",
       "Urban          1.811385\n",
       "Name: Number_of_Vehicles, dtype: float64"
      ]
     },
     "execution_count": 47,
     "metadata": {},
     "output_type": "execute_result"
    }
   ],
   "source": [
    "vehicles_avg"
   ]
  },
  {
   "cell_type": "markdown",
   "id": "8e51658b-7cc1-452e-909c-d36d309d34ee",
   "metadata": {},
   "source": [
    "<h1>There are 1.866312 average vehicle involvement in rural and 1.811385 in urban area</h1>"
   ]
  },
  {
   "cell_type": "markdown",
   "id": "f7c42695-b45f-43eb-a58c-225801414db5",
   "metadata": {},
   "source": [
    "<h1>Insight no.18</h1>\n",
    "<h2>How many accident are in Wet Road</h2>"
   ]
  },
  {
   "cell_type": "code",
   "execution_count": 120,
   "id": "70c94981-cd80-4d40-8694-ff58abefea78",
   "metadata": {},
   "outputs": [],
   "source": [
    "rainy_accidents = urban_rural_severity[urban_rural_severity['Weather_Conditions'] == 'Raining'].shape[0]\n",
    "dry_accidents = total_accidents - rainy_accidents"
   ]
  },
  {
   "cell_type": "code",
   "execution_count": 122,
   "id": "14d70805-0b87-428a-8bda-37154ccc2e81",
   "metadata": {},
   "outputs": [
    {
     "data": {
      "text/plain": [
       "142"
      ]
     },
     "execution_count": 122,
     "metadata": {},
     "output_type": "execute_result"
    }
   ],
   "source": [
    "dry_accidents"
   ]
  },
  {
   "cell_type": "markdown",
   "id": "0f3a25fd-fe64-4b24-83bd-061a3db3ad0b",
   "metadata": {},
   "source": [
    "<h1>There are </h1>"
   ]
  },
  {
   "cell_type": "markdown",
   "id": "d5ef0342-5e04-4b13-adf3-cc85a22af207",
   "metadata": {},
   "source": [
    "<h1>Insight no.19</h1>\n",
    "<h2>What Weather condition has the highest accident</h2>"
   ]
  },
  {
   "cell_type": "code",
   "execution_count": 118,
   "id": "251e9985-915a-43ae-b3da-38df93dcf7ce",
   "metadata": {},
   "outputs": [],
   "source": [
    "weather_conditions = accident['Weather_Conditions'].value_counts()"
   ]
  },
  {
   "cell_type": "code",
   "execution_count": 119,
   "id": "fd4a6051-f246-4031-88d8-cfd2302a3ab9",
   "metadata": {},
   "outputs": [
    {
     "data": {
      "text/plain": [
       "Weather_Conditions\n",
       "Fine no high winds       520885\n",
       "Raining no high winds     79696\n",
       "Other                     17150\n",
       "unacounted                14128\n",
       "Raining + high winds       9615\n",
       "Fine + high winds          8554\n",
       "Snowing no high winds      6238\n",
       "Fog or mist                3528\n",
       "Snowing + high winds        885\n",
       "Name: count, dtype: int64"
      ]
     },
     "execution_count": 119,
     "metadata": {},
     "output_type": "execute_result"
    }
   ],
   "source": [
    "weather_conditions"
   ]
  },
  {
   "cell_type": "markdown",
   "id": "23abe9c0-aaaa-4e88-a4f8-b44b4768bf80",
   "metadata": {},
   "source": [
    "<h1>Fine ni high winds has the highest accident recorded</h1>"
   ]
  },
  {
   "cell_type": "markdown",
   "id": "b04f7e98-e3b2-4468-9f5d-32f93b0f3ef0",
   "metadata": {},
   "source": [
    "<h1>Insight no.20</h1>\n",
    "<h2>How many Serious and number of accident happened in District of Teesdale</h2>"
   ]
  },
  {
   "cell_type": "code",
   "execution_count": 101,
   "id": "bb4ce4d1-d5e4-4c93-bdec-e261c81bfee4",
   "metadata": {},
   "outputs": [],
   "source": [
    "urban_rural_severity = accident[accident['District Area'] == 'Teesdale']\n",
    "total_accidents = urban_rural_severity.shape[0]\n",
    "severity_counts = urban_rural_severity['Accident_Severity'].value_counts()"
   ]
  },
  {
   "cell_type": "code",
   "execution_count": 98,
   "id": "622f4f80-6007-4dca-9cbf-5af4d50a4933",
   "metadata": {},
   "outputs": [
    {
     "data": {
      "text/plain": [
       "0"
      ]
     },
     "execution_count": 98,
     "metadata": {},
     "output_type": "execute_result"
    }
   ],
   "source": [
    "total_accidents|"
   ]
  },
  {
   "cell_type": "code",
   "execution_count": 117,
   "id": "37a56c96-b74d-4b7f-aeb2-00ee5d0295ac",
   "metadata": {},
   "outputs": [
    {
     "data": {
      "text/plain": [
       "Accident_Severity\n",
       "Slight     110\n",
       "Serious     29\n",
       "Fatal        3\n",
       "Name: count, dtype: int64"
      ]
     },
     "execution_count": 117,
     "metadata": {},
     "output_type": "execute_result"
    }
   ],
   "source": [
    "severity_counts"
   ]
  },
  {
   "cell_type": "markdown",
   "id": "cf83a472-f909-40df-9486-53b97681cad6",
   "metadata": {},
   "source": [
    "<h1>There are 29 number of Serious Accident  and 142 in total number of accident in District of Teesdale</h1>"
   ]
  },
  {
   "cell_type": "code",
   "execution_count": null,
   "id": "2f144ac6-0e0c-42d8-881f-02b5fc6f444b",
   "metadata": {},
   "outputs": [],
   "source": []
  }
 ],
 "metadata": {
  "kernelspec": {
   "display_name": "Python 3 (ipykernel)",
   "language": "python",
   "name": "python3"
  },
  "language_info": {
   "codemirror_mode": {
    "name": "ipython",
    "version": 3
   },
   "file_extension": ".py",
   "mimetype": "text/x-python",
   "name": "python",
   "nbconvert_exporter": "python",
   "pygments_lexer": "ipython3",
   "version": "3.12.5"
  }
 },
 "nbformat": 4,
 "nbformat_minor": 5
}
