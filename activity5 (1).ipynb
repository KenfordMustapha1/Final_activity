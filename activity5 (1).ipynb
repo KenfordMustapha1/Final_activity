{
 "cells": [
  {
   "cell_type": "code",
   "execution_count": 1,
   "id": "4e776170-8f5a-4cbb-a787-41631512cfda",
   "metadata": {},
   "outputs": [],
   "source": [
    "import numpy as np\n",
    "import pandas as pd\n",
    "import matplotlib.pyplot as plt\n",
    "import seaborn as sns\n",
    "from scipy.stats import f_oneway\n",
    "import warnings\n",
    "warnings.filterwarnings('ignore')"
   ]
  },
  {
   "cell_type": "code",
   "execution_count": 2,
   "id": "5269a272-5ddd-4ced-95ba-232eeb8bc6f1",
   "metadata": {},
   "outputs": [],
   "source": [
    "net = pd.read_csv('dataset\\\\Internet-Demographic.csv')"
   ]
  },
  {
   "cell_type": "code",
   "execution_count": 3,
   "id": "5224618d-5361-4145-88f1-a8b281ed44a3",
   "metadata": {},
   "outputs": [
    {
     "data": {
      "text/html": [
       "<div>\n",
       "<style scoped>\n",
       "    .dataframe tbody tr th:only-of-type {\n",
       "        vertical-align: middle;\n",
       "    }\n",
       "\n",
       "    .dataframe tbody tr th {\n",
       "        vertical-align: top;\n",
       "    }\n",
       "\n",
       "    .dataframe thead th {\n",
       "        text-align: right;\n",
       "    }\n",
       "</style>\n",
       "<table border=\"1\" class=\"dataframe\">\n",
       "  <thead>\n",
       "    <tr style=\"text-align: right;\">\n",
       "      <th></th>\n",
       "      <th>Country Name</th>\n",
       "      <th>Country Code</th>\n",
       "      <th>Birth rate</th>\n",
       "      <th>Internet users</th>\n",
       "      <th>Income Group</th>\n",
       "    </tr>\n",
       "  </thead>\n",
       "  <tbody>\n",
       "    <tr>\n",
       "      <th>0</th>\n",
       "      <td>Aruba</td>\n",
       "      <td>ABW</td>\n",
       "      <td>10.244</td>\n",
       "      <td>78.9</td>\n",
       "      <td>High income</td>\n",
       "    </tr>\n",
       "    <tr>\n",
       "      <th>1</th>\n",
       "      <td>Afghanistan</td>\n",
       "      <td>AFG</td>\n",
       "      <td>35.253</td>\n",
       "      <td>5.9</td>\n",
       "      <td>Low income</td>\n",
       "    </tr>\n",
       "    <tr>\n",
       "      <th>2</th>\n",
       "      <td>Angola</td>\n",
       "      <td>AGO</td>\n",
       "      <td>45.985</td>\n",
       "      <td>19.1</td>\n",
       "      <td>Upper middle income</td>\n",
       "    </tr>\n",
       "    <tr>\n",
       "      <th>3</th>\n",
       "      <td>Albania</td>\n",
       "      <td>ALB</td>\n",
       "      <td>12.877</td>\n",
       "      <td>57.2</td>\n",
       "      <td>Upper middle income</td>\n",
       "    </tr>\n",
       "    <tr>\n",
       "      <th>4</th>\n",
       "      <td>United Arab Emirates</td>\n",
       "      <td>ARE</td>\n",
       "      <td>11.044</td>\n",
       "      <td>88.0</td>\n",
       "      <td>High income</td>\n",
       "    </tr>\n",
       "    <tr>\n",
       "      <th>...</th>\n",
       "      <td>...</td>\n",
       "      <td>...</td>\n",
       "      <td>...</td>\n",
       "      <td>...</td>\n",
       "      <td>...</td>\n",
       "    </tr>\n",
       "    <tr>\n",
       "      <th>190</th>\n",
       "      <td>Yemen, Rep.</td>\n",
       "      <td>YEM</td>\n",
       "      <td>32.947</td>\n",
       "      <td>20.0</td>\n",
       "      <td>Lower middle income</td>\n",
       "    </tr>\n",
       "    <tr>\n",
       "      <th>191</th>\n",
       "      <td>South Africa</td>\n",
       "      <td>ZAF</td>\n",
       "      <td>20.850</td>\n",
       "      <td>46.5</td>\n",
       "      <td>Upper middle income</td>\n",
       "    </tr>\n",
       "    <tr>\n",
       "      <th>192</th>\n",
       "      <td>Congo, Dem. Rep.</td>\n",
       "      <td>COD</td>\n",
       "      <td>42.394</td>\n",
       "      <td>2.2</td>\n",
       "      <td>Low income</td>\n",
       "    </tr>\n",
       "    <tr>\n",
       "      <th>193</th>\n",
       "      <td>Zambia</td>\n",
       "      <td>ZMB</td>\n",
       "      <td>40.471</td>\n",
       "      <td>15.4</td>\n",
       "      <td>Lower middle income</td>\n",
       "    </tr>\n",
       "    <tr>\n",
       "      <th>194</th>\n",
       "      <td>Zimbabwe</td>\n",
       "      <td>ZWE</td>\n",
       "      <td>35.715</td>\n",
       "      <td>18.5</td>\n",
       "      <td>Low income</td>\n",
       "    </tr>\n",
       "  </tbody>\n",
       "</table>\n",
       "<p>195 rows × 5 columns</p>\n",
       "</div>"
      ],
      "text/plain": [
       "             Country Name Country Code  Birth rate  Internet users  \\\n",
       "0                   Aruba          ABW      10.244            78.9   \n",
       "1             Afghanistan          AFG      35.253             5.9   \n",
       "2                  Angola          AGO      45.985            19.1   \n",
       "3                 Albania          ALB      12.877            57.2   \n",
       "4    United Arab Emirates          ARE      11.044            88.0   \n",
       "..                    ...          ...         ...             ...   \n",
       "190           Yemen, Rep.          YEM      32.947            20.0   \n",
       "191          South Africa          ZAF      20.850            46.5   \n",
       "192      Congo, Dem. Rep.          COD      42.394             2.2   \n",
       "193                Zambia          ZMB      40.471            15.4   \n",
       "194              Zimbabwe          ZWE      35.715            18.5   \n",
       "\n",
       "            Income Group  \n",
       "0            High income  \n",
       "1             Low income  \n",
       "2    Upper middle income  \n",
       "3    Upper middle income  \n",
       "4            High income  \n",
       "..                   ...  \n",
       "190  Lower middle income  \n",
       "191  Upper middle income  \n",
       "192           Low income  \n",
       "193  Lower middle income  \n",
       "194           Low income  \n",
       "\n",
       "[195 rows x 5 columns]"
      ]
     },
     "execution_count": 3,
     "metadata": {},
     "output_type": "execute_result"
    }
   ],
   "source": [
    "net"
   ]
  },
  {
   "cell_type": "code",
   "execution_count": 4,
   "id": "31333122-5130-4a09-a802-43d3573a6c08",
   "metadata": {},
   "outputs": [],
   "source": [
    "net['Country Name'] = net['Country Name'].astype('category')\n",
    "net['Country Code'] = net['Country Code'].astype('category')"
   ]
  },
  {
   "cell_type": "code",
   "execution_count": 5,
   "id": "36236ce6-364a-4f6f-92ce-ecd6dd8449cf",
   "metadata": {},
   "outputs": [
    {
     "data": {
      "text/plain": [
       "Country Name      category\n",
       "Country Code      category\n",
       "Birth rate         float64\n",
       "Internet users     float64\n",
       "Income Group        object\n",
       "dtype: object"
      ]
     },
     "execution_count": 5,
     "metadata": {},
     "output_type": "execute_result"
    }
   ],
   "source": [
    "net.dtypes"
   ]
  },
  {
   "cell_type": "markdown",
   "id": "5ade5143-29ef-403f-89d7-78586fa1f479",
   "metadata": {},
   "source": [
    "<h1>1. Distribution of Birth Rates</h1>\n",
    "<H2>*Visualize the distribution of birth rate using a histogram.</H2>\n",
    "<H2>*Include appropriate labels, a title, and gridlines for clarity.</H2>"
   ]
  },
  {
   "cell_type": "code",
   "execution_count": 6,
   "id": "71ac5712-6fb8-4ba7-a969-aa6dfcb581cf",
   "metadata": {},
   "outputs": [
    {
     "data": {
      "image/png": "[encoded data removed]",
      "text/plain": [
       "<Figure size 1000x600 with 1 Axes>"
      ]
     },
     "metadata": {},
     "output_type": "display_data"
    }
   ],
   "source": [
    "birth_rates = net['Birth rate']\n",
    "plt.figure(figsize=(10, 6)) \n",
    "plt.hist(birth_rates, bins=15, edgecolor='black', alpha=0.7, color='skyblue')\n",
    "plt.xlabel(\"Birth Rate\")\n",
    "plt.ylabel(\"Number of Countries/Regions\")\n",
    "plt.title(\"Distribution of Birth Rates\")\n",
    "plt.grid(axis='y', linestyle='--', alpha=0.7)  \n",
    "plt.tight_layout()\n",
    "plt.show()"
   ]
  },
  {
   "cell_type": "markdown",
   "id": "4d16205e-bb66-4a2a-a5fc-fb8ca06e7c9a",
   "metadata": {},
   "source": [
    "<H1>2. Tap 5 Countries with the Highest Internet Usage</H1>\n",
    "<h2>*Identify and display the names and values of the top 5 countries with the highest percentage of the internet users.</h2>"
   ]
  },
  {
   "cell_type": "code",
   "execution_count": 7,
   "id": "9108b960-aca3-41c8-b901-675a1be9d262",
   "metadata": {},
   "outputs": [
    {
     "name": "stdout",
     "output_type": "stream",
     "text": [
      "Top 3 years with the highest dengue cases:\n",
      "Country Name\n",
      "Iceland    96.5468\n",
      "Bermuda    95.3000\n",
      "Norway     95.0534\n",
      "Sweden     94.7836\n",
      "Denmark    94.6297\n",
      "Name: Internet users, dtype: float64\n"
     ]
    }
   ],
   "source": [
    "top_3_years_cases = net.groupby(\"Country Name\")[\"Internet users\"].sum().nlargest(5)\n",
    "print(\"Top 3 years with the highest dengue cases:\")\n",
    "print(top_3_years_cases)"
   ]
  },
  {
   "cell_type": "markdown",
   "id": "a545e773-9380-4d89-a379-e5478697b9db",
   "metadata": {},
   "source": [
    "<h1>3. Count of Countries by Income Group</h1>\n",
    "<h2>*Count how many countries belong to each income group(high income, middle income, etc.)</h2>"
   ]
  },
  {
   "cell_type": "code",
   "execution_count": 8,
   "id": "727aa98d-b67a-4d2f-9515-578cd84195c8",
   "metadata": {},
   "outputs": [
    {
     "name": "stdout",
     "output_type": "stream",
     "text": [
      "Income Group\n",
      "High income            67\n",
      "Lower middle income    50\n",
      "Upper middle income    48\n",
      "Low income             30\n",
      "Name: count, dtype: int64\n"
     ]
    }
   ],
   "source": [
    "income_group_counts = net['Income Group'].value_counts()\n",
    "print(income_group_counts)"
   ]
  },
  {
   "cell_type": "markdown",
   "id": "e954abae-5c84-4874-a363-6898c1306a9b",
   "metadata": {},
   "source": [
    "<h1>4. Box plot of Internet Usage(Optional)</h1>\n",
    "<h2>*Visualize the distribution of internet usage using a box plot.</h2>\n",
    "<h2>*If you are unfamiliar with box plots, skip this task or attempt it for additional points.</h2>"
   ]
  },
  {
   "cell_type": "code",
   "execution_count": 9,
   "id": "0d6a16a6-4098-4f6a-b5a5-697f88283430",
   "metadata": {},
   "outputs": [
    {
     "data": {
      "image/png": "[encoded data removed]",
      "text/plain": [
       "<Figure size 600x500 with 1 Axes>"
      ]
     },
     "metadata": {},
     "output_type": "display_data"
    }
   ],
   "source": [
    "plt.figure(figsize=(6, 5))\n",
    "sns.boxplot(y=net[\"Internet users\"])\n",
    "plt.ylabel(\"Internet users\")\n",
    "plt.title(\"Box Plot of Internet Usage\")\n",
    "plt.show()"
   ]
  },
  {
   "cell_type": "markdown",
   "id": "3b06813b-ef64-4dab-a56a-b6bdee4bc3f8",
   "metadata": {},
   "source": [
    "<h1>5. Countries with No Internet Access</h1>\n",
    "<h2>\"Identify and display the names of countries where internet usage is 0%.</h2>"
   ]
  },
  {
   "cell_type": "code",
   "execution_count": 10,
   "id": "f9f1ac94-3f34-4470-8094-6ddb0aabcd98",
   "metadata": {},
   "outputs": [
    {
     "data": {
      "text/html": [
       "<div>\n",
       "<style scoped>\n",
       "    .dataframe tbody tr th:only-of-type {\n",
       "        vertical-align: middle;\n",
       "    }\n",
       "\n",
       "    .dataframe tbody tr th {\n",
       "        vertical-align: top;\n",
       "    }\n",
       "\n",
       "    .dataframe thead th {\n",
       "        text-align: right;\n",
       "    }\n",
       "</style>\n",
       "<table border=\"1\" class=\"dataframe\">\n",
       "  <thead>\n",
       "    <tr style=\"text-align: right;\">\n",
       "      <th></th>\n",
       "      <th>Country Name</th>\n",
       "      <th>Country Code</th>\n",
       "      <th>Birth rate</th>\n",
       "      <th>Internet users</th>\n",
       "      <th>Income Group</th>\n",
       "    </tr>\n",
       "  </thead>\n",
       "  <tbody>\n",
       "    <tr>\n",
       "      <th>0</th>\n",
       "      <td>Aruba</td>\n",
       "      <td>ABW</td>\n",
       "      <td>10.244</td>\n",
       "      <td>78.9</td>\n",
       "      <td>High income</td>\n",
       "    </tr>\n",
       "    <tr>\n",
       "      <th>1</th>\n",
       "      <td>Afghanistan</td>\n",
       "      <td>AFG</td>\n",
       "      <td>35.253</td>\n",
       "      <td>5.9</td>\n",
       "      <td>Low income</td>\n",
       "    </tr>\n",
       "    <tr>\n",
       "      <th>2</th>\n",
       "      <td>Angola</td>\n",
       "      <td>AGO</td>\n",
       "      <td>45.985</td>\n",
       "      <td>19.1</td>\n",
       "      <td>Upper middle income</td>\n",
       "    </tr>\n",
       "    <tr>\n",
       "      <th>3</th>\n",
       "      <td>Albania</td>\n",
       "      <td>ALB</td>\n",
       "      <td>12.877</td>\n",
       "      <td>57.2</td>\n",
       "      <td>Upper middle income</td>\n",
       "    </tr>\n",
       "    <tr>\n",
       "      <th>4</th>\n",
       "      <td>United Arab Emirates</td>\n",
       "      <td>ARE</td>\n",
       "      <td>11.044</td>\n",
       "      <td>88.0</td>\n",
       "      <td>High income</td>\n",
       "    </tr>\n",
       "  </tbody>\n",
       "</table>\n",
       "</div>"
      ],
      "text/plain": [
       "           Country Name Country Code  Birth rate  Internet users  \\\n",
       "0                 Aruba          ABW      10.244            78.9   \n",
       "1           Afghanistan          AFG      35.253             5.9   \n",
       "2                Angola          AGO      45.985            19.1   \n",
       "3               Albania          ALB      12.877            57.2   \n",
       "4  United Arab Emirates          ARE      11.044            88.0   \n",
       "\n",
       "          Income Group  \n",
       "0          High income  \n",
       "1           Low income  \n",
       "2  Upper middle income  \n",
       "3  Upper middle income  \n",
       "4          High income  "
      ]
     },
     "metadata": {},
     "output_type": "display_data"
    },
    {
     "data": {
      "text/plain": [
       "Series([], Name: Country Name, dtype: category\n",
       "Categories (195, object): ['Afghanistan', 'Albania', 'Algeria', 'Angola', ..., 'West Bank and Gaza', 'Yemen, Rep.', 'Zambia', 'Zimbabwe'])"
      ]
     },
     "metadata": {},
     "output_type": "display_data"
    }
   ],
   "source": [
    "display(net.head())\n",
    "zero_internet_countries = net[net['Internet users'] == 0]['Country Name']\n",
    "display(zero_internet_countries)\n"
   ]
  },
  {
   "cell_type": "code",
   "execution_count": 11,
   "id": "0b349953-fcbc-4c37-8e50-4d681beda201",
   "metadata": {},
   "outputs": [
    {
     "data": {
      "text/plain": [
       "Country Name      category\n",
       "Country Code      category\n",
       "Birth rate         float64\n",
       "Internet users     float64\n",
       "Income Group        object\n",
       "dtype: object"
      ]
     },
     "execution_count": 11,
     "metadata": {},
     "output_type": "execute_result"
    }
   ],
   "source": [
    "net.dtypes"
   ]
  },
  {
   "cell_type": "markdown",
   "id": "3d17847a-0e96-44c9-a2e3-3b9b8f5b252f",
   "metadata": {},
   "source": [
    "<h1>6. Average Birth Rate</h1>\n",
    "<h2>*Calculate and Display the average(mean) birth rate across all countries.</h2>"
   ]
  },
  {
   "cell_type": "code",
   "execution_count": 12,
   "id": "a33a99c1-c563-425a-af24-bdb9272ecaaf",
   "metadata": {},
   "outputs": [
    {
     "name": "stdout",
     "output_type": "stream",
     "text": [
      "Average Birth Rate\n",
      "Country Name\n",
      "Afghanistan              35.253\n",
      "Albania                  12.877\n",
      "Algeria                  24.738\n",
      "Angola                   45.985\n",
      "Antigua and Barbuda      16.447\n",
      "                          ...  \n",
      "Virgin Islands (U.S.)    10.700\n",
      "West Bank and Gaza       30.394\n",
      "Yemen, Rep.              32.947\n",
      "Zambia                   40.471\n",
      "Zimbabwe                 35.715\n",
      "Name: Birth rate, Length: 195, dtype: float64\n"
     ]
    }
   ],
   "source": [
    "avg_birth_rate = net.groupby('Country Name')[\"Birth rate\"].mean()\n",
    "print(f\"Average Birth Rate\")\n",
    "print(avg_birth_rate)"
   ]
  },
  {
   "cell_type": "markdown",
   "id": "bda605e3-9068-4906-8bdb-f847ea6eb1d6",
   "metadata": {},
   "source": [
    "<h1>7. Scatter Plot: Birth Rate vs. Internet Usage</h1>\n",
    "<h2>\"Create a scatter plot to visualize the relationship between birth rate and internet usage.</h2>"
   ]
  },
  {
   "cell_type": "code",
   "execution_count": 13,
   "id": "10e129af-ba03-49fb-aebc-fec4e1460d4c",
   "metadata": {},
   "outputs": [
    {
     "data": {
      "image/png": "[encoded data removed]",
      "text/plain": [
       "<Figure size 800x600 with 1 Axes>"
      ]
     },
     "metadata": {},
     "output_type": "display_data"
    }
   ],
   "source": [
    "plt.figure(figsize=(8, 6))\n",
    "sns.scatterplot(data=net, x='Birth rate', y='Internet users')\n",
    "plt.title('Relationship between Birth Rate and Internet Usage')\n",
    "plt.xlabel('Birth Rate')\n",
    "plt.ylabel('Internet Users (%)')\n",
    "plt.grid(True)\n",
    "plt.tight_layout()\n",
    "plt.show()"
   ]
  },
  {
   "cell_type": "markdown",
   "id": "d8ec07d6-d9d9-4ca6-9da3-9b655d55e5b0",
   "metadata": {},
   "source": [
    "<h1>8. Countries with Birth Rates Above 40</h1>\n",
    "<h2>*Identify and Display the names and birth rates of countries with a birth rate greater than 40</h2>"
   ]
  },
  {
   "cell_type": "code",
   "execution_count": 14,
   "id": "60fc558a-9677-4c51-af6b-192bdda6d625",
   "metadata": {},
   "outputs": [
    {
     "name": "stdout",
     "output_type": "stream",
     "text": [
      "Countries with Birth Rate Above 40:\n",
      "         Country Name Country Code  Birth rate  Internet users  \\\n",
      "2              Angola          AGO      45.985            19.1   \n",
      "11            Burundi          BDI      44.151             1.3   \n",
      "14       Burkina Faso          BFA      40.551             9.1   \n",
      "65        Gambia, The          GMB      42.525            14.0   \n",
      "115              Mali          MLI      44.138             3.5   \n",
      "127             Niger          NER      49.661             1.7   \n",
      "128           Nigeria          NGA      40.045            38.0   \n",
      "156           Somalia          SOM      43.891             1.5   \n",
      "167              Chad          TCD      45.745             2.3   \n",
      "178            Uganda          UGA      43.474            16.2   \n",
      "192  Congo, Dem. Rep.          COD      42.394             2.2   \n",
      "193            Zambia          ZMB      40.471            15.4   \n",
      "\n",
      "            Income Group  \n",
      "2    Upper middle income  \n",
      "11            Low income  \n",
      "14            Low income  \n",
      "65            Low income  \n",
      "115           Low income  \n",
      "127           Low income  \n",
      "128  Lower middle income  \n",
      "156           Low income  \n",
      "167           Low income  \n",
      "178           Low income  \n",
      "192           Low income  \n",
      "193  Lower middle income  \n"
     ]
    }
   ],
   "source": [
    "high_birth_rate = net[net[\"Birth rate\"] >= 40]\n",
    "print(\"Countries with Birth Rate Above 40:\")\n",
    "print(high_birth_rate)"
   ]
  },
  {
   "cell_type": "markdown",
   "id": "3901f70f-0900-4fc2-950c-3cbbb32e8252",
   "metadata": {},
   "source": [
    "<h1>9. Pie Chart of income Groups</h1>\n",
    "<h2>\"Visualize the proportion of countries in each income group using a pie chart</h2>\n",
    "<h2>\"Include percentages and legend for clarity</h2>"
   ]
  },
  {
   "cell_type": "code",
   "execution_count": 15,
   "id": "72fc9ec2-55f5-4bc0-b419-da06a915694f",
   "metadata": {},
   "outputs": [
    {
     "data": {
      "image/png": "[encoded data removed]",
      "text/plain": [
       "<Figure size 600x600 with 1 Axes>"
      ]
     },
     "metadata": {},
     "output_type": "display_data"
    }
   ],
   "source": [
    "plt.figure(figsize=(6, 6))\n",
    "net[\"Income Group\"].value_counts().plot.pie(autopct='%1.1f%%', colors=[\"red\", \"blue\", \"green\"])\n",
    "plt.title(\"Proportion of Countries by Income Group\")\n",
    "plt.ylabel(\"\") \n",
    "plt.show()"
   ]
  },
  {
   "cell_type": "code",
   "execution_count": 16,
   "id": "b01b3b92-e6ff-46d6-88dc-593a118c8294",
   "metadata": {},
   "outputs": [
    {
     "data": {
      "text/plain": [
       "Country Name      category\n",
       "Country Code      category\n",
       "Birth rate         float64\n",
       "Internet users     float64\n",
       "Income Group        object\n",
       "dtype: object"
      ]
     },
     "execution_count": 16,
     "metadata": {},
     "output_type": "execute_result"
    }
   ],
   "source": [
    "net.dtypes"
   ]
  },
  {
   "cell_type": "markdown",
   "id": "f8430a6d-47be-403d-aca9-5707519cda43",
   "metadata": {},
   "source": [
    "<h1>10. Correlation Botween Birth Rates and Internet Usage</h1>\n",
    "<h2>\"Calculate the correlation between Birth Rate and Internet Usage</h2>\n",
    "<h2>*Interpret the result (e.g. positive, negative, weak, or strong correlation)</h2>"
   ]
  },
  {
   "cell_type": "code",
   "execution_count": 17,
   "id": "d4f32df4-bf0e-4f48-902e-1864306b26c9",
   "metadata": {},
   "outputs": [
    {
     "name": "stdout",
     "output_type": "stream",
     "text": [
      "Correlation between Birth Rate and Internet Usage:\n",
      "-0.8155885551284765\n"
     ]
    }
   ],
   "source": [
    "correlation = net[\"Birth rate\"].corr(net[\"Internet users\"])\n",
    "print(f\"Correlation between Birth Rate and Internet Usage:\")\n",
    "print(correlation)"
   ]
  }
 ],
 "metadata": {
  "kernelspec": {
   "display_name": "Python 3 (ipykernel)",
   "language": "python",
   "name": "python3"
  },
  "language_info": {
   "codemirror_mode": {
    "name": "ipython",
    "version": 3
   },
   "file_extension": ".py",
   "mimetype": "text/x-python",
   "name": "python",
   "nbconvert_exporter": "python",
   "pygments_lexer": "ipython3",
   "version": "3.12.5"
  }
 },
 "nbformat": 4,
 "nbformat_minor": 5
}
